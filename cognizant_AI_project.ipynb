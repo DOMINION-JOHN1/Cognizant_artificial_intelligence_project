{
 "cells": [
  {
   "cell_type": "code",
   "execution_count": 2,
   "metadata": {
    "collapsed": true,
    "pycharm": {
     "name": "#%%\n"
    }
   },
   "outputs": [],
   "source": [
    "import pandas as pd\n",
    "import matplotlib as plt\n"
   ]
  },
  {
   "cell_type": "code",
   "execution_count": 4,
   "outputs": [],
   "source": [
    "df = pd.read_csv ('sample_sales_data.csv')"
   ],
   "metadata": {
    "collapsed": false,
    "pycharm": {
     "name": "#%%\n"
    }
   }
  },
  {
   "cell_type": "code",
   "execution_count": 15,
   "outputs": [
    {
     "data": {
      "text/plain": "                         transaction_id            timestamp  \\\n0  a1c82654-c52c-45b3-8ce8-4c2a1efe63ed  2022-03-02 09:51:38   \n1  931ad550-09e8-4da6-beaa-8c9d17be9c60  2022-03-06 10:33:59   \n2  ae133534-6f61-4cd6-b6b8-d1c1d8d90aea  2022-03-04 17:20:21   \n3  157cebd9-aaf0-475d-8a11-7c8e0f5b76e4  2022-03-02 17:23:58   \n4  a81a6cd3-5e0c-44a2-826c-aea43e46c514  2022-03-05 14:32:43   \n\n                             product_id category customer_type  unit_price  \\\n0  3bc6c1ea-0198-46de-9ffd-514ae3338713    fruit          gold        3.99   \n1  ad81b46c-bf38-41cf-9b54-5fe7f5eba93e    fruit      standard        3.99   \n2  7c55cbd4-f306-4c04-a030-628cbe7867c1    fruit       premium        0.19   \n3  80da8348-1707-403f-8be7-9e6deeccc883    fruit          gold        0.19   \n4  7f5e86e6-f06f-45f6-bf44-27b095c9ad1d    fruit         basic        4.49   \n\n   quantity  total payment_type  \n0         2   7.98     e-wallet  \n1         1   3.99     e-wallet  \n2         2   0.38     e-wallet  \n3         4   0.76     e-wallet  \n4         2   8.98   debit card  ",
      "text/html": "<div>\n<style scoped>\n    .dataframe tbody tr th:only-of-type {\n        vertical-align: middle;\n    }\n\n    .dataframe tbody tr th {\n        vertical-align: top;\n    }\n\n    .dataframe thead th {\n        text-align: right;\n    }\n</style>\n<table border=\"1\" class=\"dataframe\">\n  <thead>\n    <tr style=\"text-align: right;\">\n      <th></th>\n      <th>transaction_id</th>\n      <th>timestamp</th>\n      <th>product_id</th>\n      <th>category</th>\n      <th>customer_type</th>\n      <th>unit_price</th>\n      <th>quantity</th>\n      <th>total</th>\n      <th>payment_type</th>\n    </tr>\n  </thead>\n  <tbody>\n    <tr>\n      <th>0</th>\n      <td>a1c82654-c52c-45b3-8ce8-4c2a1efe63ed</td>\n      <td>2022-03-02 09:51:38</td>\n      <td>3bc6c1ea-0198-46de-9ffd-514ae3338713</td>\n      <td>fruit</td>\n      <td>gold</td>\n      <td>3.99</td>\n      <td>2</td>\n      <td>7.98</td>\n      <td>e-wallet</td>\n    </tr>\n    <tr>\n      <th>1</th>\n      <td>931ad550-09e8-4da6-beaa-8c9d17be9c60</td>\n      <td>2022-03-06 10:33:59</td>\n      <td>ad81b46c-bf38-41cf-9b54-5fe7f5eba93e</td>\n      <td>fruit</td>\n      <td>standard</td>\n      <td>3.99</td>\n      <td>1</td>\n      <td>3.99</td>\n      <td>e-wallet</td>\n    </tr>\n    <tr>\n      <th>2</th>\n      <td>ae133534-6f61-4cd6-b6b8-d1c1d8d90aea</td>\n      <td>2022-03-04 17:20:21</td>\n      <td>7c55cbd4-f306-4c04-a030-628cbe7867c1</td>\n      <td>fruit</td>\n      <td>premium</td>\n      <td>0.19</td>\n      <td>2</td>\n      <td>0.38</td>\n      <td>e-wallet</td>\n    </tr>\n    <tr>\n      <th>3</th>\n      <td>157cebd9-aaf0-475d-8a11-7c8e0f5b76e4</td>\n      <td>2022-03-02 17:23:58</td>\n      <td>80da8348-1707-403f-8be7-9e6deeccc883</td>\n      <td>fruit</td>\n      <td>gold</td>\n      <td>0.19</td>\n      <td>4</td>\n      <td>0.76</td>\n      <td>e-wallet</td>\n    </tr>\n    <tr>\n      <th>4</th>\n      <td>a81a6cd3-5e0c-44a2-826c-aea43e46c514</td>\n      <td>2022-03-05 14:32:43</td>\n      <td>7f5e86e6-f06f-45f6-bf44-27b095c9ad1d</td>\n      <td>fruit</td>\n      <td>basic</td>\n      <td>4.49</td>\n      <td>2</td>\n      <td>8.98</td>\n      <td>debit card</td>\n    </tr>\n  </tbody>\n</table>\n</div>"
     },
     "execution_count": 15,
     "metadata": {},
     "output_type": "execute_result"
    }
   ],
   "source": [
    "df.drop(columns=[\"Unnamed: 0\"], inplace=True, errors='ignore')\n",
    "df.head()"
   ],
   "metadata": {
    "collapsed": false,
    "pycharm": {
     "name": "#%%\n"
    }
   }
  },
  {
   "cell_type": "code",
   "execution_count": 17,
   "outputs": [
    {
     "data": {
      "text/plain": "transaction_id    0\ntimestamp         0\nproduct_id        0\ncategory          0\ncustomer_type     0\nunit_price        0\nquantity          0\ntotal             0\npayment_type      0\ndtype: int64"
     },
     "execution_count": 17,
     "metadata": {},
     "output_type": "execute_result"
    }
   ],
   "source": [
    "df.isnull().sum()"
   ],
   "metadata": {
    "collapsed": false,
    "pycharm": {
     "name": "#%%\n"
    }
   }
  },
  {
   "cell_type": "code",
   "execution_count": 23,
   "outputs": [
    {
     "name": "stdout",
     "output_type": "stream",
     "text": [
      "<class 'pandas.core.frame.DataFrame'>\n",
      "RangeIndex: 7829 entries, 0 to 7828\n",
      "Data columns (total 9 columns):\n",
      " #   Column          Non-Null Count  Dtype  \n",
      "---  ------          --------------  -----  \n",
      " 0   transaction_id  7829 non-null   object \n",
      " 1   timestamp       7829 non-null   object \n",
      " 2   product_id      7829 non-null   object \n",
      " 3   category        7829 non-null   object \n",
      " 4   customer_type   7829 non-null   object \n",
      " 5   unit_price      7829 non-null   float64\n",
      " 6   quantity        7829 non-null   int64  \n",
      " 7   total           7829 non-null   float64\n",
      " 8   payment_type    7829 non-null   object \n",
      "dtypes: float64(2), int64(1), object(6)\n",
      "memory usage: 550.6+ KB\n"
     ]
    }
   ],
   "source": [
    "df.info()"
   ],
   "metadata": {
    "collapsed": false,
    "pycharm": {
     "name": "#%%\n"
    }
   }
  },
  {
   "cell_type": "code",
   "execution_count": 24,
   "outputs": [],
   "source": [],
   "metadata": {
    "collapsed": false,
    "pycharm": {
     "name": "#%%\n"
    }
   }
  },
  {
   "cell_type": "code",
   "execution_count": null,
   "outputs": [],
   "source": [],
   "metadata": {
    "collapsed": false,
    "pycharm": {
     "name": "#%%\n"
    }
   }
  }
 ],
 "metadata": {
  "kernelspec": {
   "display_name": "Python 3",
   "language": "python",
   "name": "python3"
  },
  "language_info": {
   "codemirror_mode": {
    "name": "ipython",
    "version": 2
   },
   "file_extension": ".py",
   "mimetype": "text/x-python",
   "name": "python",
   "nbconvert_exporter": "python",
   "pygments_lexer": "ipython2",
   "version": "2.7.6"
  }
 },
 "nbformat": 4,
 "nbformat_minor": 0
}