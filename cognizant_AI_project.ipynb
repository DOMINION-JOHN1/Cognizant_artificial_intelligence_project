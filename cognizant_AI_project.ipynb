{
 "cells": [
  {
   "cell_type": "code",
   "execution_count": 559,
   "metadata": {
    "collapsed": true,
    "pycharm": {
     "name": "#%%\n"
    }
   },
   "outputs": [],
   "source": [
    "import pandas as pd\n",
    "import matplotlib as plt\n"
   ]
  },
  {
   "cell_type": "code",
   "execution_count": 560,
   "outputs": [],
   "source": [
    "sales_df = pd.read_csv ('sample_sales_data.csv')"
   ],
   "metadata": {
    "collapsed": false,
    "pycharm": {
     "name": "#%%\n"
    }
   }
  },
  {
   "cell_type": "code",
   "execution_count": 561,
   "outputs": [
    {
     "data": {
      "text/plain": "                         transaction_id            timestamp  \\\n0  a1c82654-c52c-45b3-8ce8-4c2a1efe63ed  2022-03-02 09:51:38   \n1  931ad550-09e8-4da6-beaa-8c9d17be9c60  2022-03-06 10:33:59   \n2  ae133534-6f61-4cd6-b6b8-d1c1d8d90aea  2022-03-04 17:20:21   \n3  157cebd9-aaf0-475d-8a11-7c8e0f5b76e4  2022-03-02 17:23:58   \n4  a81a6cd3-5e0c-44a2-826c-aea43e46c514  2022-03-05 14:32:43   \n\n                             product_id category customer_type  unit_price  \\\n0  3bc6c1ea-0198-46de-9ffd-514ae3338713    fruit          gold        3.99   \n1  ad81b46c-bf38-41cf-9b54-5fe7f5eba93e    fruit      standard        3.99   \n2  7c55cbd4-f306-4c04-a030-628cbe7867c1    fruit       premium        0.19   \n3  80da8348-1707-403f-8be7-9e6deeccc883    fruit          gold        0.19   \n4  7f5e86e6-f06f-45f6-bf44-27b095c9ad1d    fruit         basic        4.49   \n\n   quantity  total payment_type  \n0         2   7.98     e-wallet  \n1         1   3.99     e-wallet  \n2         2   0.38     e-wallet  \n3         4   0.76     e-wallet  \n4         2   8.98   debit card  ",
      "text/html": "<div>\n<style scoped>\n    .dataframe tbody tr th:only-of-type {\n        vertical-align: middle;\n    }\n\n    .dataframe tbody tr th {\n        vertical-align: top;\n    }\n\n    .dataframe thead th {\n        text-align: right;\n    }\n</style>\n<table border=\"1\" class=\"dataframe\">\n  <thead>\n    <tr style=\"text-align: right;\">\n      <th></th>\n      <th>transaction_id</th>\n      <th>timestamp</th>\n      <th>product_id</th>\n      <th>category</th>\n      <th>customer_type</th>\n      <th>unit_price</th>\n      <th>quantity</th>\n      <th>total</th>\n      <th>payment_type</th>\n    </tr>\n  </thead>\n  <tbody>\n    <tr>\n      <th>0</th>\n      <td>a1c82654-c52c-45b3-8ce8-4c2a1efe63ed</td>\n      <td>2022-03-02 09:51:38</td>\n      <td>3bc6c1ea-0198-46de-9ffd-514ae3338713</td>\n      <td>fruit</td>\n      <td>gold</td>\n      <td>3.99</td>\n      <td>2</td>\n      <td>7.98</td>\n      <td>e-wallet</td>\n    </tr>\n    <tr>\n      <th>1</th>\n      <td>931ad550-09e8-4da6-beaa-8c9d17be9c60</td>\n      <td>2022-03-06 10:33:59</td>\n      <td>ad81b46c-bf38-41cf-9b54-5fe7f5eba93e</td>\n      <td>fruit</td>\n      <td>standard</td>\n      <td>3.99</td>\n      <td>1</td>\n      <td>3.99</td>\n      <td>e-wallet</td>\n    </tr>\n    <tr>\n      <th>2</th>\n      <td>ae133534-6f61-4cd6-b6b8-d1c1d8d90aea</td>\n      <td>2022-03-04 17:20:21</td>\n      <td>7c55cbd4-f306-4c04-a030-628cbe7867c1</td>\n      <td>fruit</td>\n      <td>premium</td>\n      <td>0.19</td>\n      <td>2</td>\n      <td>0.38</td>\n      <td>e-wallet</td>\n    </tr>\n    <tr>\n      <th>3</th>\n      <td>157cebd9-aaf0-475d-8a11-7c8e0f5b76e4</td>\n      <td>2022-03-02 17:23:58</td>\n      <td>80da8348-1707-403f-8be7-9e6deeccc883</td>\n      <td>fruit</td>\n      <td>gold</td>\n      <td>0.19</td>\n      <td>4</td>\n      <td>0.76</td>\n      <td>e-wallet</td>\n    </tr>\n    <tr>\n      <th>4</th>\n      <td>a81a6cd3-5e0c-44a2-826c-aea43e46c514</td>\n      <td>2022-03-05 14:32:43</td>\n      <td>7f5e86e6-f06f-45f6-bf44-27b095c9ad1d</td>\n      <td>fruit</td>\n      <td>basic</td>\n      <td>4.49</td>\n      <td>2</td>\n      <td>8.98</td>\n      <td>debit card</td>\n    </tr>\n  </tbody>\n</table>\n</div>"
     },
     "execution_count": 561,
     "metadata": {},
     "output_type": "execute_result"
    }
   ],
   "source": [
    "sales_df.drop(columns=[\"Unnamed: 0\"], inplace=True, errors='ignore')\n",
    "sales_df.head()"
   ],
   "metadata": {
    "collapsed": false,
    "pycharm": {
     "name": "#%%\n"
    }
   }
  },
  {
   "cell_type": "markdown",
   "source": [
    "## EXPLORATORY DATA ANALYSIS"
   ],
   "metadata": {
    "collapsed": false,
    "pycharm": {
     "name": "#%% md\n"
    }
   }
  },
  {
   "cell_type": "code",
   "execution_count": 562,
   "outputs": [
    {
     "data": {
      "text/plain": "transaction_id    0\ntimestamp         0\nproduct_id        0\ncategory          0\ncustomer_type     0\nunit_price        0\nquantity          0\ntotal             0\npayment_type      0\ndtype: int64"
     },
     "execution_count": 562,
     "metadata": {},
     "output_type": "execute_result"
    }
   ],
   "source": [
    "sales_df.isnull().sum()"
   ],
   "metadata": {
    "collapsed": false,
    "pycharm": {
     "name": "#%%\n"
    }
   }
  },
  {
   "cell_type": "code",
   "execution_count": 563,
   "outputs": [
    {
     "name": "stdout",
     "output_type": "stream",
     "text": [
      "<class 'pandas.core.frame.DataFrame'>\n",
      "RangeIndex: 7829 entries, 0 to 7828\n",
      "Data columns (total 9 columns):\n",
      " #   Column          Non-Null Count  Dtype  \n",
      "---  ------          --------------  -----  \n",
      " 0   transaction_id  7829 non-null   object \n",
      " 1   timestamp       7829 non-null   object \n",
      " 2   product_id      7829 non-null   object \n",
      " 3   category        7829 non-null   object \n",
      " 4   customer_type   7829 non-null   object \n",
      " 5   unit_price      7829 non-null   float64\n",
      " 6   quantity        7829 non-null   int64  \n",
      " 7   total           7829 non-null   float64\n",
      " 8   payment_type    7829 non-null   object \n",
      "dtypes: float64(2), int64(1), object(6)\n",
      "memory usage: 550.6+ KB\n"
     ]
    }
   ],
   "source": [
    "sales_df.info()"
   ],
   "metadata": {
    "collapsed": false,
    "pycharm": {
     "name": "#%%\n"
    }
   }
  },
  {
   "cell_type": "code",
   "execution_count": 564,
   "outputs": [
    {
     "data": {
      "text/plain": "array(['gold', 'standard', 'premium', 'basic', 'non-member'], dtype=object)"
     },
     "execution_count": 564,
     "metadata": {},
     "output_type": "execute_result"
    }
   ],
   "source": [
    "pd.unique(sales_df['customer_type'])"
   ],
   "metadata": {
    "collapsed": false,
    "pycharm": {
     "name": "#%%\n"
    }
   }
  },
  {
   "cell_type": "code",
   "execution_count": 565,
   "outputs": [
    {
     "data": {
      "text/plain": "array(['fruit', 'vegetables', 'refrigerated items', 'frozen',\n       'spices and herbs', 'canned foods', 'packaged foods',\n       'condiments and sauces', 'beverages', 'dairy', 'cheese', 'meat',\n       'seafood', 'baked goods', 'baking', 'snacks', 'baby products',\n       'pets', 'personal care', 'medicine', 'kitchen',\n       'cleaning products'], dtype=object)"
     },
     "execution_count": 565,
     "metadata": {},
     "output_type": "execute_result"
    }
   ],
   "source": [
    "pd.unique(sales_df['category'])"
   ],
   "metadata": {
    "collapsed": false,
    "pycharm": {
     "name": "#%%\n"
    }
   }
  },
  {
   "cell_type": "code",
   "execution_count": 566,
   "outputs": [
    {
     "data": {
      "text/plain": "array(['e-wallet', 'debit card', 'cash', 'credit card'], dtype=object)"
     },
     "execution_count": 566,
     "metadata": {},
     "output_type": "execute_result"
    }
   ],
   "source": [
    "pd.unique(sales_df['payment_type'])"
   ],
   "metadata": {
    "collapsed": false,
    "pycharm": {
     "name": "#%%\n"
    }
   }
  },
  {
   "cell_type": "code",
   "execution_count": 567,
   "outputs": [],
   "source": [
    "import seaborn as sns"
   ],
   "metadata": {
    "collapsed": false,
    "pycharm": {
     "name": "#%%\n"
    }
   }
  },
  {
   "cell_type": "markdown",
   "source": [
    "## loading of extra data set"
   ],
   "metadata": {
    "collapsed": false,
    "pycharm": {
     "name": "#%% md\n"
    }
   }
  },
  {
   "cell_type": "code",
   "execution_count": 568,
   "outputs": [
    {
     "data": {
      "text/plain": "                                     id            timestamp  temperature\n0  d1ca1ef8-0eac-42fc-af80-97106efc7b13  2022-03-07 15:55:20         2.96\n1  4b8a66c4-0f3a-4f16-826f-8cf9397e9d18  2022-03-01 09:18:22         1.88\n2  3d47a0c7-1e72-4512-812f-b6b5d8428cf3  2022-03-04 15:12:26         1.78\n3  9500357b-ce15-424a-837a-7677b386f471  2022-03-02 12:30:42         2.18\n4  c4b61fec-99c2-4c6d-8e5d-4edd8c9632fa  2022-03-05 09:09:33         1.38",
      "text/html": "<div>\n<style scoped>\n    .dataframe tbody tr th:only-of-type {\n        vertical-align: middle;\n    }\n\n    .dataframe tbody tr th {\n        vertical-align: top;\n    }\n\n    .dataframe thead th {\n        text-align: right;\n    }\n</style>\n<table border=\"1\" class=\"dataframe\">\n  <thead>\n    <tr style=\"text-align: right;\">\n      <th></th>\n      <th>id</th>\n      <th>timestamp</th>\n      <th>temperature</th>\n    </tr>\n  </thead>\n  <tbody>\n    <tr>\n      <th>0</th>\n      <td>d1ca1ef8-0eac-42fc-af80-97106efc7b13</td>\n      <td>2022-03-07 15:55:20</td>\n      <td>2.96</td>\n    </tr>\n    <tr>\n      <th>1</th>\n      <td>4b8a66c4-0f3a-4f16-826f-8cf9397e9d18</td>\n      <td>2022-03-01 09:18:22</td>\n      <td>1.88</td>\n    </tr>\n    <tr>\n      <th>2</th>\n      <td>3d47a0c7-1e72-4512-812f-b6b5d8428cf3</td>\n      <td>2022-03-04 15:12:26</td>\n      <td>1.78</td>\n    </tr>\n    <tr>\n      <th>3</th>\n      <td>9500357b-ce15-424a-837a-7677b386f471</td>\n      <td>2022-03-02 12:30:42</td>\n      <td>2.18</td>\n    </tr>\n    <tr>\n      <th>4</th>\n      <td>c4b61fec-99c2-4c6d-8e5d-4edd8c9632fa</td>\n      <td>2022-03-05 09:09:33</td>\n      <td>1.38</td>\n    </tr>\n  </tbody>\n</table>\n</div>"
     },
     "execution_count": 568,
     "metadata": {},
     "output_type": "execute_result"
    }
   ],
   "source": [
    "temp_df = pd.read_csv(\"sensor_storage_temperature.csv\")\n",
    "temp_df.drop(columns=[\"Unnamed: 0\"], inplace=True, errors='ignore')\n",
    "temp_df.head()\n"
   ],
   "metadata": {
    "collapsed": false,
    "pycharm": {
     "name": "#%%\n"
    }
   }
  },
  {
   "cell_type": "code",
   "execution_count": 569,
   "outputs": [
    {
     "data": {
      "text/plain": "                                     id            timestamp  \\\n0  4220e505-c247-478d-9831-6b9f87a4488a  2022-03-07 12:13:02   \n1  f2612b26-fc82-49ea-8940-0751fdd4d9ef  2022-03-07 16:39:46   \n2  989a287f-67e6-4478-aa49-c3a35dac0e2e  2022-03-01 18:17:43   \n3  af8e5683-d247-46ac-9909-1a77bdebefb2  2022-03-02 14:29:09   \n4  08a32247-3f44-4002-85fb-c198434dd4bb  2022-03-02 13:46:18   \n\n                             product_id  estimated_stock_pct  \n0  f658605e-75f3-4fed-a655-c0903f344427                 0.75  \n1  de06083a-f5c0-451d-b2f4-9ab88b52609d                 0.48  \n2  ce8f3a04-d1a4-43b1-a7c2-fa1b8e7674c8                 0.58  \n3  c21e3ba9-92a3-4745-92c2-6faef73223f7                 0.79  \n4  7f478817-aa5b-44e9-9059-8045228c9eb0                 0.22  ",
      "text/html": "<div>\n<style scoped>\n    .dataframe tbody tr th:only-of-type {\n        vertical-align: middle;\n    }\n\n    .dataframe tbody tr th {\n        vertical-align: top;\n    }\n\n    .dataframe thead th {\n        text-align: right;\n    }\n</style>\n<table border=\"1\" class=\"dataframe\">\n  <thead>\n    <tr style=\"text-align: right;\">\n      <th></th>\n      <th>id</th>\n      <th>timestamp</th>\n      <th>product_id</th>\n      <th>estimated_stock_pct</th>\n    </tr>\n  </thead>\n  <tbody>\n    <tr>\n      <th>0</th>\n      <td>4220e505-c247-478d-9831-6b9f87a4488a</td>\n      <td>2022-03-07 12:13:02</td>\n      <td>f658605e-75f3-4fed-a655-c0903f344427</td>\n      <td>0.75</td>\n    </tr>\n    <tr>\n      <th>1</th>\n      <td>f2612b26-fc82-49ea-8940-0751fdd4d9ef</td>\n      <td>2022-03-07 16:39:46</td>\n      <td>de06083a-f5c0-451d-b2f4-9ab88b52609d</td>\n      <td>0.48</td>\n    </tr>\n    <tr>\n      <th>2</th>\n      <td>989a287f-67e6-4478-aa49-c3a35dac0e2e</td>\n      <td>2022-03-01 18:17:43</td>\n      <td>ce8f3a04-d1a4-43b1-a7c2-fa1b8e7674c8</td>\n      <td>0.58</td>\n    </tr>\n    <tr>\n      <th>3</th>\n      <td>af8e5683-d247-46ac-9909-1a77bdebefb2</td>\n      <td>2022-03-02 14:29:09</td>\n      <td>c21e3ba9-92a3-4745-92c2-6faef73223f7</td>\n      <td>0.79</td>\n    </tr>\n    <tr>\n      <th>4</th>\n      <td>08a32247-3f44-4002-85fb-c198434dd4bb</td>\n      <td>2022-03-02 13:46:18</td>\n      <td>7f478817-aa5b-44e9-9059-8045228c9eb0</td>\n      <td>0.22</td>\n    </tr>\n  </tbody>\n</table>\n</div>"
     },
     "execution_count": 569,
     "metadata": {},
     "output_type": "execute_result"
    }
   ],
   "source": [
    "stock_df = pd.read_csv(\"sensor_stock_levels.csv\")\n",
    "stock_df.drop(columns=[\"Unnamed: 0\"], inplace=True, errors='ignore')\n",
    "stock_df.head()"
   ],
   "metadata": {
    "collapsed": false,
    "pycharm": {
     "name": "#%%\n"
    }
   }
  },
  {
   "cell_type": "code",
   "execution_count": 570,
   "outputs": [],
   "source": [
    "def convert_to_datetime(data: pd.DataFrame = None, column: str = None):\n",
    "\n",
    "  dummy = data.copy()\n",
    "  dummy[column] = pd.to_datetime(dummy[column], format='%Y-%m-%d %H:%M:%S')\n",
    "  return dummy"
   ],
   "metadata": {
    "collapsed": false,
    "pycharm": {
     "name": "#%%\n"
    }
   }
  },
  {
   "cell_type": "code",
   "execution_count": 571,
   "outputs": [
    {
     "name": "stdout",
     "output_type": "stream",
     "text": [
      "<class 'pandas.core.frame.DataFrame'>\n",
      "RangeIndex: 7829 entries, 0 to 7828\n",
      "Data columns (total 9 columns):\n",
      " #   Column          Non-Null Count  Dtype         \n",
      "---  ------          --------------  -----         \n",
      " 0   transaction_id  7829 non-null   object        \n",
      " 1   timestamp       7829 non-null   datetime64[ns]\n",
      " 2   product_id      7829 non-null   object        \n",
      " 3   category        7829 non-null   object        \n",
      " 4   customer_type   7829 non-null   object        \n",
      " 5   unit_price      7829 non-null   float64       \n",
      " 6   quantity        7829 non-null   int64         \n",
      " 7   total           7829 non-null   float64       \n",
      " 8   payment_type    7829 non-null   object        \n",
      "dtypes: datetime64[ns](1), float64(2), int64(1), object(5)\n",
      "memory usage: 550.6+ KB\n"
     ]
    }
   ],
   "source": [
    "sales_df = convert_to_datetime(sales_df, 'timestamp')\n",
    "sales_df.info()"
   ],
   "metadata": {
    "collapsed": false,
    "pycharm": {
     "name": "#%%\n"
    }
   }
  },
  {
   "cell_type": "code",
   "execution_count": 572,
   "outputs": [
    {
     "name": "stdout",
     "output_type": "stream",
     "text": [
      "<class 'pandas.core.frame.DataFrame'>\n",
      "RangeIndex: 23890 entries, 0 to 23889\n",
      "Data columns (total 3 columns):\n",
      " #   Column       Non-Null Count  Dtype         \n",
      "---  ------       --------------  -----         \n",
      " 0   id           23890 non-null  object        \n",
      " 1   timestamp    23890 non-null  datetime64[ns]\n",
      " 2   temperature  23890 non-null  float64       \n",
      "dtypes: datetime64[ns](1), float64(1), object(1)\n",
      "memory usage: 560.0+ KB\n"
     ]
    }
   ],
   "source": [
    "temp_df = convert_to_datetime(temp_df, 'timestamp')\n",
    "temp_df.info()"
   ],
   "metadata": {
    "collapsed": false,
    "pycharm": {
     "name": "#%%\n"
    }
   }
  },
  {
   "cell_type": "code",
   "execution_count": 573,
   "outputs": [
    {
     "data": {
      "text/plain": "                                         id           timestamp  \\\n0      4220e505-c247-478d-9831-6b9f87a4488a 2022-03-07 12:13:02   \n1      f2612b26-fc82-49ea-8940-0751fdd4d9ef 2022-03-07 16:39:46   \n2      989a287f-67e6-4478-aa49-c3a35dac0e2e 2022-03-01 18:17:43   \n3      af8e5683-d247-46ac-9909-1a77bdebefb2 2022-03-02 14:29:09   \n4      08a32247-3f44-4002-85fb-c198434dd4bb 2022-03-02 13:46:18   \n...                                     ...                 ...   \n14995  b9bf6788-09f3-490b-959b-dc5b55edb4b6 2022-03-04 10:52:50   \n14996  9ff1cc01-020f-491a-bafd-13552dccff44 2022-03-02 12:25:48   \n14997  4d8101de-e8a2-4af9-9764-7a3a22aa7084 2022-03-03 17:36:44   \n14998  5f2a7b1e-b3c4-4395-8425-c960e22f701d 2022-03-02 19:42:47   \n14999  af6f4493-e49d-4dcb-951d-308e6cce267b 2022-03-06 17:18:27   \n\n                                 product_id  estimated_stock_pct  \n0      f658605e-75f3-4fed-a655-c0903f344427                 0.75  \n1      de06083a-f5c0-451d-b2f4-9ab88b52609d                 0.48  \n2      ce8f3a04-d1a4-43b1-a7c2-fa1b8e7674c8                 0.58  \n3      c21e3ba9-92a3-4745-92c2-6faef73223f7                 0.79  \n4      7f478817-aa5b-44e9-9059-8045228c9eb0                 0.22  \n...                                     ...                  ...  \n14995  e37658de-3649-4ddb-9c73-b868dd69d3fe                 0.66  \n14996  fbeb39cc-8cd0-4143-bdfb-77658a02dec9                 0.99  \n14997  8e21dcec-d775-4969-8334-05a37a5fd189                 0.72  \n14998  9708cf5b-aa69-4320-a013-9d234c40e63f                 0.95  \n14999  3bc6c1ea-0198-46de-9ffd-514ae3338713                 0.75  \n\n[15000 rows x 4 columns]",
      "text/html": "<div>\n<style scoped>\n    .dataframe tbody tr th:only-of-type {\n        vertical-align: middle;\n    }\n\n    .dataframe tbody tr th {\n        vertical-align: top;\n    }\n\n    .dataframe thead th {\n        text-align: right;\n    }\n</style>\n<table border=\"1\" class=\"dataframe\">\n  <thead>\n    <tr style=\"text-align: right;\">\n      <th></th>\n      <th>id</th>\n      <th>timestamp</th>\n      <th>product_id</th>\n      <th>estimated_stock_pct</th>\n    </tr>\n  </thead>\n  <tbody>\n    <tr>\n      <th>0</th>\n      <td>4220e505-c247-478d-9831-6b9f87a4488a</td>\n      <td>2022-03-07 12:13:02</td>\n      <td>f658605e-75f3-4fed-a655-c0903f344427</td>\n      <td>0.75</td>\n    </tr>\n    <tr>\n      <th>1</th>\n      <td>f2612b26-fc82-49ea-8940-0751fdd4d9ef</td>\n      <td>2022-03-07 16:39:46</td>\n      <td>de06083a-f5c0-451d-b2f4-9ab88b52609d</td>\n      <td>0.48</td>\n    </tr>\n    <tr>\n      <th>2</th>\n      <td>989a287f-67e6-4478-aa49-c3a35dac0e2e</td>\n      <td>2022-03-01 18:17:43</td>\n      <td>ce8f3a04-d1a4-43b1-a7c2-fa1b8e7674c8</td>\n      <td>0.58</td>\n    </tr>\n    <tr>\n      <th>3</th>\n      <td>af8e5683-d247-46ac-9909-1a77bdebefb2</td>\n      <td>2022-03-02 14:29:09</td>\n      <td>c21e3ba9-92a3-4745-92c2-6faef73223f7</td>\n      <td>0.79</td>\n    </tr>\n    <tr>\n      <th>4</th>\n      <td>08a32247-3f44-4002-85fb-c198434dd4bb</td>\n      <td>2022-03-02 13:46:18</td>\n      <td>7f478817-aa5b-44e9-9059-8045228c9eb0</td>\n      <td>0.22</td>\n    </tr>\n    <tr>\n      <th>...</th>\n      <td>...</td>\n      <td>...</td>\n      <td>...</td>\n      <td>...</td>\n    </tr>\n    <tr>\n      <th>14995</th>\n      <td>b9bf6788-09f3-490b-959b-dc5b55edb4b6</td>\n      <td>2022-03-04 10:52:50</td>\n      <td>e37658de-3649-4ddb-9c73-b868dd69d3fe</td>\n      <td>0.66</td>\n    </tr>\n    <tr>\n      <th>14996</th>\n      <td>9ff1cc01-020f-491a-bafd-13552dccff44</td>\n      <td>2022-03-02 12:25:48</td>\n      <td>fbeb39cc-8cd0-4143-bdfb-77658a02dec9</td>\n      <td>0.99</td>\n    </tr>\n    <tr>\n      <th>14997</th>\n      <td>4d8101de-e8a2-4af9-9764-7a3a22aa7084</td>\n      <td>2022-03-03 17:36:44</td>\n      <td>8e21dcec-d775-4969-8334-05a37a5fd189</td>\n      <td>0.72</td>\n    </tr>\n    <tr>\n      <th>14998</th>\n      <td>5f2a7b1e-b3c4-4395-8425-c960e22f701d</td>\n      <td>2022-03-02 19:42:47</td>\n      <td>9708cf5b-aa69-4320-a013-9d234c40e63f</td>\n      <td>0.95</td>\n    </tr>\n    <tr>\n      <th>14999</th>\n      <td>af6f4493-e49d-4dcb-951d-308e6cce267b</td>\n      <td>2022-03-06 17:18:27</td>\n      <td>3bc6c1ea-0198-46de-9ffd-514ae3338713</td>\n      <td>0.75</td>\n    </tr>\n  </tbody>\n</table>\n<p>15000 rows × 4 columns</p>\n</div>"
     },
     "execution_count": 573,
     "metadata": {},
     "output_type": "execute_result"
    }
   ],
   "source": [
    "stock_df = convert_to_datetime(stock_df, 'timestamp')\n",
    "stock_df"
   ],
   "metadata": {
    "collapsed": false,
    "pycharm": {
     "name": "#%%\n"
    }
   }
  },
  {
   "cell_type": "code",
   "execution_count": 574,
   "outputs": [],
   "source": [
    "stock_df['hour'] = stock_df['timestamp'].dt.hour\n",
    "temp_df['hour']=temp_df['timestamp'].dt.hour\n",
    "sales_df['hour']=sales_df['timestamp'].dt.hour"
   ],
   "metadata": {
    "collapsed": false,
    "pycharm": {
     "name": "#%%\n"
    }
   }
  },
  {
   "cell_type": "code",
   "execution_count": 575,
   "outputs": [
    {
     "data": {
      "text/plain": "                            transaction_id           timestamp  \\\n0     a1c82654-c52c-45b3-8ce8-4c2a1efe63ed 2022-03-02 09:51:38   \n1     931ad550-09e8-4da6-beaa-8c9d17be9c60 2022-03-06 10:33:59   \n2     ae133534-6f61-4cd6-b6b8-d1c1d8d90aea 2022-03-04 17:20:21   \n3     157cebd9-aaf0-475d-8a11-7c8e0f5b76e4 2022-03-02 17:23:58   \n4     a81a6cd3-5e0c-44a2-826c-aea43e46c514 2022-03-05 14:32:43   \n...                                    ...                 ...   \n7824  6c19b9fc-f86d-4526-9dfe-d8027a4d13ee 2022-03-03 18:22:09   \n7825  1c69824b-e399-4b79-a5e7-04a3a7db0681 2022-03-04 19:14:46   \n7826  79aee7d6-1405-4345-9a15-92541e9e1e74 2022-03-03 14:00:09   \n7827  e5cc4f88-e5b7-4ad5-bc1b-12a828a14f55 2022-03-04 15:11:38   \n7828  afd70b4f-ee21-402d-8d8f-0d9e13c2bea6 2022-03-06 13:50:36   \n\n                                product_id           category customer_type  \\\n0     3bc6c1ea-0198-46de-9ffd-514ae3338713              fruit          gold   \n1     ad81b46c-bf38-41cf-9b54-5fe7f5eba93e              fruit      standard   \n2     7c55cbd4-f306-4c04-a030-628cbe7867c1              fruit       premium   \n3     80da8348-1707-403f-8be7-9e6deeccc883              fruit          gold   \n4     7f5e86e6-f06f-45f6-bf44-27b095c9ad1d              fruit         basic   \n...                                    ...                ...           ...   \n7824  bc6187a9-d508-482b-9ca6-590d1cc7524f  cleaning products         basic   \n7825  707e4237-191c-4cc9-85af-383a6c1cb2ab  cleaning products      standard   \n7826  a9325c1a-2715-41df-b7f4-3078fa5ecd97  cleaning products         basic   \n7827  707e4237-191c-4cc9-85af-383a6c1cb2ab  cleaning products         basic   \n7828  d6ccd088-11be-4c25-aa1f-ea87c01a04db  cleaning products    non-member   \n\n      unit_price  quantity  total payment_type  hour  \n0           3.99         2   7.98     e-wallet     9  \n1           3.99         1   3.99     e-wallet    10  \n2           0.19         2   0.38     e-wallet    17  \n3           0.19         4   0.76     e-wallet    17  \n4           4.49         2   8.98   debit card    14  \n...          ...       ...    ...          ...   ...  \n7824       14.19         2  28.38     e-wallet    18  \n7825       16.99         1  16.99  credit card    19  \n7826       14.19         2  28.38  credit card    14  \n7827       16.99         4  67.96         cash    15  \n7828       14.99         4  59.96   debit card    13  \n\n[7829 rows x 10 columns]",
      "text/html": "<div>\n<style scoped>\n    .dataframe tbody tr th:only-of-type {\n        vertical-align: middle;\n    }\n\n    .dataframe tbody tr th {\n        vertical-align: top;\n    }\n\n    .dataframe thead th {\n        text-align: right;\n    }\n</style>\n<table border=\"1\" class=\"dataframe\">\n  <thead>\n    <tr style=\"text-align: right;\">\n      <th></th>\n      <th>transaction_id</th>\n      <th>timestamp</th>\n      <th>product_id</th>\n      <th>category</th>\n      <th>customer_type</th>\n      <th>unit_price</th>\n      <th>quantity</th>\n      <th>total</th>\n      <th>payment_type</th>\n      <th>hour</th>\n    </tr>\n  </thead>\n  <tbody>\n    <tr>\n      <th>0</th>\n      <td>a1c82654-c52c-45b3-8ce8-4c2a1efe63ed</td>\n      <td>2022-03-02 09:51:38</td>\n      <td>3bc6c1ea-0198-46de-9ffd-514ae3338713</td>\n      <td>fruit</td>\n      <td>gold</td>\n      <td>3.99</td>\n      <td>2</td>\n      <td>7.98</td>\n      <td>e-wallet</td>\n      <td>9</td>\n    </tr>\n    <tr>\n      <th>1</th>\n      <td>931ad550-09e8-4da6-beaa-8c9d17be9c60</td>\n      <td>2022-03-06 10:33:59</td>\n      <td>ad81b46c-bf38-41cf-9b54-5fe7f5eba93e</td>\n      <td>fruit</td>\n      <td>standard</td>\n      <td>3.99</td>\n      <td>1</td>\n      <td>3.99</td>\n      <td>e-wallet</td>\n      <td>10</td>\n    </tr>\n    <tr>\n      <th>2</th>\n      <td>ae133534-6f61-4cd6-b6b8-d1c1d8d90aea</td>\n      <td>2022-03-04 17:20:21</td>\n      <td>7c55cbd4-f306-4c04-a030-628cbe7867c1</td>\n      <td>fruit</td>\n      <td>premium</td>\n      <td>0.19</td>\n      <td>2</td>\n      <td>0.38</td>\n      <td>e-wallet</td>\n      <td>17</td>\n    </tr>\n    <tr>\n      <th>3</th>\n      <td>157cebd9-aaf0-475d-8a11-7c8e0f5b76e4</td>\n      <td>2022-03-02 17:23:58</td>\n      <td>80da8348-1707-403f-8be7-9e6deeccc883</td>\n      <td>fruit</td>\n      <td>gold</td>\n      <td>0.19</td>\n      <td>4</td>\n      <td>0.76</td>\n      <td>e-wallet</td>\n      <td>17</td>\n    </tr>\n    <tr>\n      <th>4</th>\n      <td>a81a6cd3-5e0c-44a2-826c-aea43e46c514</td>\n      <td>2022-03-05 14:32:43</td>\n      <td>7f5e86e6-f06f-45f6-bf44-27b095c9ad1d</td>\n      <td>fruit</td>\n      <td>basic</td>\n      <td>4.49</td>\n      <td>2</td>\n      <td>8.98</td>\n      <td>debit card</td>\n      <td>14</td>\n    </tr>\n    <tr>\n      <th>...</th>\n      <td>...</td>\n      <td>...</td>\n      <td>...</td>\n      <td>...</td>\n      <td>...</td>\n      <td>...</td>\n      <td>...</td>\n      <td>...</td>\n      <td>...</td>\n      <td>...</td>\n    </tr>\n    <tr>\n      <th>7824</th>\n      <td>6c19b9fc-f86d-4526-9dfe-d8027a4d13ee</td>\n      <td>2022-03-03 18:22:09</td>\n      <td>bc6187a9-d508-482b-9ca6-590d1cc7524f</td>\n      <td>cleaning products</td>\n      <td>basic</td>\n      <td>14.19</td>\n      <td>2</td>\n      <td>28.38</td>\n      <td>e-wallet</td>\n      <td>18</td>\n    </tr>\n    <tr>\n      <th>7825</th>\n      <td>1c69824b-e399-4b79-a5e7-04a3a7db0681</td>\n      <td>2022-03-04 19:14:46</td>\n      <td>707e4237-191c-4cc9-85af-383a6c1cb2ab</td>\n      <td>cleaning products</td>\n      <td>standard</td>\n      <td>16.99</td>\n      <td>1</td>\n      <td>16.99</td>\n      <td>credit card</td>\n      <td>19</td>\n    </tr>\n    <tr>\n      <th>7826</th>\n      <td>79aee7d6-1405-4345-9a15-92541e9e1e74</td>\n      <td>2022-03-03 14:00:09</td>\n      <td>a9325c1a-2715-41df-b7f4-3078fa5ecd97</td>\n      <td>cleaning products</td>\n      <td>basic</td>\n      <td>14.19</td>\n      <td>2</td>\n      <td>28.38</td>\n      <td>credit card</td>\n      <td>14</td>\n    </tr>\n    <tr>\n      <th>7827</th>\n      <td>e5cc4f88-e5b7-4ad5-bc1b-12a828a14f55</td>\n      <td>2022-03-04 15:11:38</td>\n      <td>707e4237-191c-4cc9-85af-383a6c1cb2ab</td>\n      <td>cleaning products</td>\n      <td>basic</td>\n      <td>16.99</td>\n      <td>4</td>\n      <td>67.96</td>\n      <td>cash</td>\n      <td>15</td>\n    </tr>\n    <tr>\n      <th>7828</th>\n      <td>afd70b4f-ee21-402d-8d8f-0d9e13c2bea6</td>\n      <td>2022-03-06 13:50:36</td>\n      <td>d6ccd088-11be-4c25-aa1f-ea87c01a04db</td>\n      <td>cleaning products</td>\n      <td>non-member</td>\n      <td>14.99</td>\n      <td>4</td>\n      <td>59.96</td>\n      <td>debit card</td>\n      <td>13</td>\n    </tr>\n  </tbody>\n</table>\n<p>7829 rows × 10 columns</p>\n</div>"
     },
     "execution_count": 575,
     "metadata": {},
     "output_type": "execute_result"
    }
   ],
   "source": [
    "sales_df"
   ],
   "metadata": {
    "collapsed": false,
    "pycharm": {
     "name": "#%%\n"
    }
   }
  },
  {
   "cell_type": "code",
   "execution_count": 576,
   "outputs": [
    {
     "data": {
      "text/plain": "                                         id           timestamp  \\\n0      4220e505-c247-478d-9831-6b9f87a4488a 2022-03-07 12:13:02   \n1      f2612b26-fc82-49ea-8940-0751fdd4d9ef 2022-03-07 16:39:46   \n2      989a287f-67e6-4478-aa49-c3a35dac0e2e 2022-03-01 18:17:43   \n3      af8e5683-d247-46ac-9909-1a77bdebefb2 2022-03-02 14:29:09   \n4      08a32247-3f44-4002-85fb-c198434dd4bb 2022-03-02 13:46:18   \n...                                     ...                 ...   \n14995  b9bf6788-09f3-490b-959b-dc5b55edb4b6 2022-03-04 10:52:50   \n14996  9ff1cc01-020f-491a-bafd-13552dccff44 2022-03-02 12:25:48   \n14997  4d8101de-e8a2-4af9-9764-7a3a22aa7084 2022-03-03 17:36:44   \n14998  5f2a7b1e-b3c4-4395-8425-c960e22f701d 2022-03-02 19:42:47   \n14999  af6f4493-e49d-4dcb-951d-308e6cce267b 2022-03-06 17:18:27   \n\n                                 product_id  estimated_stock_pct  hour  \n0      f658605e-75f3-4fed-a655-c0903f344427                 0.75    12  \n1      de06083a-f5c0-451d-b2f4-9ab88b52609d                 0.48    16  \n2      ce8f3a04-d1a4-43b1-a7c2-fa1b8e7674c8                 0.58    18  \n3      c21e3ba9-92a3-4745-92c2-6faef73223f7                 0.79    14  \n4      7f478817-aa5b-44e9-9059-8045228c9eb0                 0.22    13  \n...                                     ...                  ...   ...  \n14995  e37658de-3649-4ddb-9c73-b868dd69d3fe                 0.66    10  \n14996  fbeb39cc-8cd0-4143-bdfb-77658a02dec9                 0.99    12  \n14997  8e21dcec-d775-4969-8334-05a37a5fd189                 0.72    17  \n14998  9708cf5b-aa69-4320-a013-9d234c40e63f                 0.95    19  \n14999  3bc6c1ea-0198-46de-9ffd-514ae3338713                 0.75    17  \n\n[15000 rows x 5 columns]",
      "text/html": "<div>\n<style scoped>\n    .dataframe tbody tr th:only-of-type {\n        vertical-align: middle;\n    }\n\n    .dataframe tbody tr th {\n        vertical-align: top;\n    }\n\n    .dataframe thead th {\n        text-align: right;\n    }\n</style>\n<table border=\"1\" class=\"dataframe\">\n  <thead>\n    <tr style=\"text-align: right;\">\n      <th></th>\n      <th>id</th>\n      <th>timestamp</th>\n      <th>product_id</th>\n      <th>estimated_stock_pct</th>\n      <th>hour</th>\n    </tr>\n  </thead>\n  <tbody>\n    <tr>\n      <th>0</th>\n      <td>4220e505-c247-478d-9831-6b9f87a4488a</td>\n      <td>2022-03-07 12:13:02</td>\n      <td>f658605e-75f3-4fed-a655-c0903f344427</td>\n      <td>0.75</td>\n      <td>12</td>\n    </tr>\n    <tr>\n      <th>1</th>\n      <td>f2612b26-fc82-49ea-8940-0751fdd4d9ef</td>\n      <td>2022-03-07 16:39:46</td>\n      <td>de06083a-f5c0-451d-b2f4-9ab88b52609d</td>\n      <td>0.48</td>\n      <td>16</td>\n    </tr>\n    <tr>\n      <th>2</th>\n      <td>989a287f-67e6-4478-aa49-c3a35dac0e2e</td>\n      <td>2022-03-01 18:17:43</td>\n      <td>ce8f3a04-d1a4-43b1-a7c2-fa1b8e7674c8</td>\n      <td>0.58</td>\n      <td>18</td>\n    </tr>\n    <tr>\n      <th>3</th>\n      <td>af8e5683-d247-46ac-9909-1a77bdebefb2</td>\n      <td>2022-03-02 14:29:09</td>\n      <td>c21e3ba9-92a3-4745-92c2-6faef73223f7</td>\n      <td>0.79</td>\n      <td>14</td>\n    </tr>\n    <tr>\n      <th>4</th>\n      <td>08a32247-3f44-4002-85fb-c198434dd4bb</td>\n      <td>2022-03-02 13:46:18</td>\n      <td>7f478817-aa5b-44e9-9059-8045228c9eb0</td>\n      <td>0.22</td>\n      <td>13</td>\n    </tr>\n    <tr>\n      <th>...</th>\n      <td>...</td>\n      <td>...</td>\n      <td>...</td>\n      <td>...</td>\n      <td>...</td>\n    </tr>\n    <tr>\n      <th>14995</th>\n      <td>b9bf6788-09f3-490b-959b-dc5b55edb4b6</td>\n      <td>2022-03-04 10:52:50</td>\n      <td>e37658de-3649-4ddb-9c73-b868dd69d3fe</td>\n      <td>0.66</td>\n      <td>10</td>\n    </tr>\n    <tr>\n      <th>14996</th>\n      <td>9ff1cc01-020f-491a-bafd-13552dccff44</td>\n      <td>2022-03-02 12:25:48</td>\n      <td>fbeb39cc-8cd0-4143-bdfb-77658a02dec9</td>\n      <td>0.99</td>\n      <td>12</td>\n    </tr>\n    <tr>\n      <th>14997</th>\n      <td>4d8101de-e8a2-4af9-9764-7a3a22aa7084</td>\n      <td>2022-03-03 17:36:44</td>\n      <td>8e21dcec-d775-4969-8334-05a37a5fd189</td>\n      <td>0.72</td>\n      <td>17</td>\n    </tr>\n    <tr>\n      <th>14998</th>\n      <td>5f2a7b1e-b3c4-4395-8425-c960e22f701d</td>\n      <td>2022-03-02 19:42:47</td>\n      <td>9708cf5b-aa69-4320-a013-9d234c40e63f</td>\n      <td>0.95</td>\n      <td>19</td>\n    </tr>\n    <tr>\n      <th>14999</th>\n      <td>af6f4493-e49d-4dcb-951d-308e6cce267b</td>\n      <td>2022-03-06 17:18:27</td>\n      <td>3bc6c1ea-0198-46de-9ffd-514ae3338713</td>\n      <td>0.75</td>\n      <td>17</td>\n    </tr>\n  </tbody>\n</table>\n<p>15000 rows × 5 columns</p>\n</div>"
     },
     "execution_count": 576,
     "metadata": {},
     "output_type": "execute_result"
    }
   ],
   "source": [
    "stock_df"
   ],
   "metadata": {
    "collapsed": false,
    "pycharm": {
     "name": "#%%\n"
    }
   }
  },
  {
   "cell_type": "code",
   "execution_count": 577,
   "outputs": [],
   "source": [
    "sales_df = sales_df.drop_duplicates()\n",
    "stock_df = stock_df.drop_duplicates()\n",
    "temp_df = temp_df.drop_duplicates()"
   ],
   "metadata": {
    "collapsed": false,
    "pycharm": {
     "name": "#%%\n"
    }
   }
  },
  {
   "cell_type": "code",
   "execution_count": 578,
   "outputs": [
    {
     "data": {
      "text/plain": "            timestamp                            product_id  quantity\n0 2022-03-01 09:00:13  9e71fa82-7be2-4320-abd6-f8bc65b41913         3\n1 2022-03-01 09:00:18  049b2171-0eeb-4a3e-bf98-0c290c7821da         3\n2 2022-03-01 09:00:28  04da844d-8dba-4470-9119-e534d52a03a0         4\n3 2022-03-01 09:00:42  6232cdff-0954-496a-b645-09c79abbd6e0         1\n4 2022-03-01 09:01:06  6fdec15b-fd57-4920-a84f-211532cbe46a         4",
      "text/html": "<div>\n<style scoped>\n    .dataframe tbody tr th:only-of-type {\n        vertical-align: middle;\n    }\n\n    .dataframe tbody tr th {\n        vertical-align: top;\n    }\n\n    .dataframe thead th {\n        text-align: right;\n    }\n</style>\n<table border=\"1\" class=\"dataframe\">\n  <thead>\n    <tr style=\"text-align: right;\">\n      <th></th>\n      <th>timestamp</th>\n      <th>product_id</th>\n      <th>quantity</th>\n    </tr>\n  </thead>\n  <tbody>\n    <tr>\n      <th>0</th>\n      <td>2022-03-01 09:00:13</td>\n      <td>9e71fa82-7be2-4320-abd6-f8bc65b41913</td>\n      <td>3</td>\n    </tr>\n    <tr>\n      <th>1</th>\n      <td>2022-03-01 09:00:18</td>\n      <td>049b2171-0eeb-4a3e-bf98-0c290c7821da</td>\n      <td>3</td>\n    </tr>\n    <tr>\n      <th>2</th>\n      <td>2022-03-01 09:00:28</td>\n      <td>04da844d-8dba-4470-9119-e534d52a03a0</td>\n      <td>4</td>\n    </tr>\n    <tr>\n      <th>3</th>\n      <td>2022-03-01 09:00:42</td>\n      <td>6232cdff-0954-496a-b645-09c79abbd6e0</td>\n      <td>1</td>\n    </tr>\n    <tr>\n      <th>4</th>\n      <td>2022-03-01 09:01:06</td>\n      <td>6fdec15b-fd57-4920-a84f-211532cbe46a</td>\n      <td>4</td>\n    </tr>\n  </tbody>\n</table>\n</div>"
     },
     "execution_count": 578,
     "metadata": {},
     "output_type": "execute_result"
    }
   ],
   "source": [
    "sales_agg = sales_df.groupby(['timestamp', 'product_id']).agg({'quantity': 'sum'}).reset_index()\n",
    "sales_agg.head()"
   ],
   "metadata": {
    "collapsed": false,
    "pycharm": {
     "name": "#%%\n"
    }
   }
  },
  {
   "cell_type": "code",
   "execution_count": 579,
   "outputs": [
    {
     "data": {
      "text/plain": "            timestamp                            product_id  \\\n0 2022-03-01 09:00:03  891e242e-4e58-469f-8de1-a60ffa8eb286   \n1 2022-03-01 09:00:12  440eb479-cf6a-4c55-ba8b-4475bc66dd06   \n2 2022-03-01 09:00:23  ae7c026a-2854-4342-8e0b-b1186cedbbe3   \n3 2022-03-01 09:00:48  adfbf330-cb1a-4c42-933d-f8fbee4696ad   \n4 2022-03-01 09:00:53  9708cf5b-aa69-4320-a013-9d234c40e63f   \n\n   estimated_stock_pct  \n0                 0.80  \n1                 0.33  \n2                 0.20  \n3                 0.11  \n4                 0.57  ",
      "text/html": "<div>\n<style scoped>\n    .dataframe tbody tr th:only-of-type {\n        vertical-align: middle;\n    }\n\n    .dataframe tbody tr th {\n        vertical-align: top;\n    }\n\n    .dataframe thead th {\n        text-align: right;\n    }\n</style>\n<table border=\"1\" class=\"dataframe\">\n  <thead>\n    <tr style=\"text-align: right;\">\n      <th></th>\n      <th>timestamp</th>\n      <th>product_id</th>\n      <th>estimated_stock_pct</th>\n    </tr>\n  </thead>\n  <tbody>\n    <tr>\n      <th>0</th>\n      <td>2022-03-01 09:00:03</td>\n      <td>891e242e-4e58-469f-8de1-a60ffa8eb286</td>\n      <td>0.80</td>\n    </tr>\n    <tr>\n      <th>1</th>\n      <td>2022-03-01 09:00:12</td>\n      <td>440eb479-cf6a-4c55-ba8b-4475bc66dd06</td>\n      <td>0.33</td>\n    </tr>\n    <tr>\n      <th>2</th>\n      <td>2022-03-01 09:00:23</td>\n      <td>ae7c026a-2854-4342-8e0b-b1186cedbbe3</td>\n      <td>0.20</td>\n    </tr>\n    <tr>\n      <th>3</th>\n      <td>2022-03-01 09:00:48</td>\n      <td>adfbf330-cb1a-4c42-933d-f8fbee4696ad</td>\n      <td>0.11</td>\n    </tr>\n    <tr>\n      <th>4</th>\n      <td>2022-03-01 09:00:53</td>\n      <td>9708cf5b-aa69-4320-a013-9d234c40e63f</td>\n      <td>0.57</td>\n    </tr>\n  </tbody>\n</table>\n</div>"
     },
     "execution_count": 579,
     "metadata": {},
     "output_type": "execute_result"
    }
   ],
   "source": [
    "stock_agg = stock_df.groupby(['timestamp', 'product_id']).agg({'estimated_stock_pct': 'mean'}).reset_index()\n",
    "stock_agg.head()"
   ],
   "metadata": {
    "collapsed": false,
    "pycharm": {
     "name": "#%%\n"
    }
   }
  },
  {
   "cell_type": "code",
   "execution_count": 580,
   "outputs": [
    {
     "data": {
      "text/plain": "timestamp      0\ntemperature    0\ndtype: int64"
     },
     "execution_count": 580,
     "metadata": {},
     "output_type": "execute_result"
    }
   ],
   "source": [
    "temp_agg = temp_df.groupby(['timestamp']).agg({'temperature': 'mean'}).reset_index()\n",
    "temp_agg.isna().sum()"
   ],
   "metadata": {
    "collapsed": false,
    "pycharm": {
     "name": "#%%\n"
    }
   }
  },
  {
   "cell_type": "code",
   "execution_count": 581,
   "outputs": [
    {
     "data": {
      "text/plain": "timestamp                  0\nproduct_id                 0\nestimated_stock_pct        0\nquantity               14998\ndtype: int64"
     },
     "execution_count": 581,
     "metadata": {},
     "output_type": "execute_result"
    }
   ],
   "source": [
    "merged_df = stock_agg.merge(sales_agg, on=['timestamp', 'product_id'], how='left')\n",
    "merged_df.isna().sum()"
   ],
   "metadata": {
    "collapsed": false,
    "pycharm": {
     "name": "#%%\n"
    }
   }
  },
  {
   "cell_type": "code",
   "execution_count": 582,
   "outputs": [
    {
     "data": {
      "text/plain": "timestamp                  0\nproduct_id                 0\nestimated_stock_pct        0\nquantity               14998\ntemperature            13698\ndtype: int64"
     },
     "execution_count": 582,
     "metadata": {},
     "output_type": "execute_result"
    }
   ],
   "source": [
    "merged_df = merged_df.merge(temp_agg, on='timestamp', how='left')\n",
    "merged_df.isna().sum()"
   ],
   "metadata": {
    "collapsed": false,
    "pycharm": {
     "name": "#%%\n"
    }
   }
  },
  {
   "cell_type": "code",
   "execution_count": 583,
   "outputs": [
    {
     "name": "stdout",
     "output_type": "stream",
     "text": [
      "<class 'pandas.core.frame.DataFrame'>\n",
      "Int64Index: 14998 entries, 0 to 14997\n",
      "Data columns (total 5 columns):\n",
      " #   Column               Non-Null Count  Dtype         \n",
      "---  ------               --------------  -----         \n",
      " 0   timestamp            14998 non-null  datetime64[ns]\n",
      " 1   product_id           14998 non-null  object        \n",
      " 2   estimated_stock_pct  14998 non-null  float64       \n",
      " 3   quantity             0 non-null      float64       \n",
      " 4   temperature          1300 non-null   float64       \n",
      "dtypes: datetime64[ns](1), float64(3), object(1)\n",
      "memory usage: 703.0+ KB\n"
     ]
    }
   ],
   "source": [
    "merged_df.info()"
   ],
   "metadata": {
    "collapsed": false,
    "pycharm": {
     "name": "#%%\n"
    }
   }
  },
  {
   "cell_type": "code",
   "execution_count": 584,
   "outputs": [
    {
     "name": "stdout",
     "output_type": "stream",
     "text": [
      "<class 'pandas.core.frame.DataFrame'>\n",
      "Int64Index: 14998 entries, 0 to 14997\n",
      "Data columns (total 5 columns):\n",
      " #   Column               Non-Null Count  Dtype         \n",
      "---  ------               --------------  -----         \n",
      " 0   timestamp            14998 non-null  datetime64[ns]\n",
      " 1   product_id           14998 non-null  object        \n",
      " 2   estimated_stock_pct  14998 non-null  float64       \n",
      " 3   quantity             14998 non-null  float64       \n",
      " 4   temperature          1300 non-null   float64       \n",
      "dtypes: datetime64[ns](1), float64(3), object(1)\n",
      "memory usage: 703.0+ KB\n"
     ]
    }
   ],
   "source": [
    "merged_df['quantity'] = merged_df['quantity'].fillna(0)\n",
    "merged_df.info()"
   ],
   "metadata": {
    "collapsed": false,
    "pycharm": {
     "name": "#%%\n"
    }
   }
  },
  {
   "cell_type": "code",
   "execution_count": 585,
   "outputs": [],
   "source": [
    "product_categories = sales_df[['product_id', 'category']]\n",
    "product_categories = product_categories.drop_duplicates()\n",
    "\n",
    "product_price = sales_df[['product_id', 'unit_price']]\n",
    "product_price = product_price.drop_duplicates()"
   ],
   "metadata": {
    "collapsed": false,
    "pycharm": {
     "name": "#%%\n"
    }
   }
  },
  {
   "cell_type": "code",
   "execution_count": 586,
   "outputs": [
    {
     "data": {
      "text/plain": "            timestamp                            product_id  \\\n0 2022-03-01 09:00:03  891e242e-4e58-469f-8de1-a60ffa8eb286   \n1 2022-03-01 09:00:12  440eb479-cf6a-4c55-ba8b-4475bc66dd06   \n2 2022-03-01 09:00:23  ae7c026a-2854-4342-8e0b-b1186cedbbe3   \n3 2022-03-01 09:00:48  adfbf330-cb1a-4c42-933d-f8fbee4696ad   \n4 2022-03-01 09:00:53  9708cf5b-aa69-4320-a013-9d234c40e63f   \n\n   estimated_stock_pct  quantity  temperature          category  \n0                 0.80       0.0          NaN  spices and herbs  \n1                 0.33       0.0          NaN       baked goods  \n2                 0.20       0.0         1.85      canned foods  \n3                 0.11       0.0          NaN      canned foods  \n4                 0.57       0.0          NaN            cheese  ",
      "text/html": "<div>\n<style scoped>\n    .dataframe tbody tr th:only-of-type {\n        vertical-align: middle;\n    }\n\n    .dataframe tbody tr th {\n        vertical-align: top;\n    }\n\n    .dataframe thead th {\n        text-align: right;\n    }\n</style>\n<table border=\"1\" class=\"dataframe\">\n  <thead>\n    <tr style=\"text-align: right;\">\n      <th></th>\n      <th>timestamp</th>\n      <th>product_id</th>\n      <th>estimated_stock_pct</th>\n      <th>quantity</th>\n      <th>temperature</th>\n      <th>category</th>\n    </tr>\n  </thead>\n  <tbody>\n    <tr>\n      <th>0</th>\n      <td>2022-03-01 09:00:03</td>\n      <td>891e242e-4e58-469f-8de1-a60ffa8eb286</td>\n      <td>0.80</td>\n      <td>0.0</td>\n      <td>NaN</td>\n      <td>spices and herbs</td>\n    </tr>\n    <tr>\n      <th>1</th>\n      <td>2022-03-01 09:00:12</td>\n      <td>440eb479-cf6a-4c55-ba8b-4475bc66dd06</td>\n      <td>0.33</td>\n      <td>0.0</td>\n      <td>NaN</td>\n      <td>baked goods</td>\n    </tr>\n    <tr>\n      <th>2</th>\n      <td>2022-03-01 09:00:23</td>\n      <td>ae7c026a-2854-4342-8e0b-b1186cedbbe3</td>\n      <td>0.20</td>\n      <td>0.0</td>\n      <td>1.85</td>\n      <td>canned foods</td>\n    </tr>\n    <tr>\n      <th>3</th>\n      <td>2022-03-01 09:00:48</td>\n      <td>adfbf330-cb1a-4c42-933d-f8fbee4696ad</td>\n      <td>0.11</td>\n      <td>0.0</td>\n      <td>NaN</td>\n      <td>canned foods</td>\n    </tr>\n    <tr>\n      <th>4</th>\n      <td>2022-03-01 09:00:53</td>\n      <td>9708cf5b-aa69-4320-a013-9d234c40e63f</td>\n      <td>0.57</td>\n      <td>0.0</td>\n      <td>NaN</td>\n      <td>cheese</td>\n    </tr>\n  </tbody>\n</table>\n</div>"
     },
     "execution_count": 586,
     "metadata": {},
     "output_type": "execute_result"
    }
   ],
   "source": [
    "merged_df = merged_df.merge(product_categories, on=\"product_id\", how=\"left\")\n",
    "merged_df.head()"
   ],
   "metadata": {
    "collapsed": false,
    "pycharm": {
     "name": "#%%\n"
    }
   }
  },
  {
   "cell_type": "code",
   "execution_count": 587,
   "outputs": [
    {
     "data": {
      "text/plain": "            timestamp                            product_id  \\\n0 2022-03-01 09:00:03  891e242e-4e58-469f-8de1-a60ffa8eb286   \n1 2022-03-01 09:00:12  440eb479-cf6a-4c55-ba8b-4475bc66dd06   \n2 2022-03-01 09:00:23  ae7c026a-2854-4342-8e0b-b1186cedbbe3   \n3 2022-03-01 09:00:48  adfbf330-cb1a-4c42-933d-f8fbee4696ad   \n4 2022-03-01 09:00:53  9708cf5b-aa69-4320-a013-9d234c40e63f   \n\n   estimated_stock_pct  quantity  temperature          category  unit_price  \n0                 0.80       0.0          NaN  spices and herbs        2.19  \n1                 0.33       0.0          NaN       baked goods        8.49  \n2                 0.20       0.0         1.85      canned foods        8.99  \n3                 0.11       0.0          NaN      canned foods        7.49  \n4                 0.57       0.0          NaN            cheese       13.99  ",
      "text/html": "<div>\n<style scoped>\n    .dataframe tbody tr th:only-of-type {\n        vertical-align: middle;\n    }\n\n    .dataframe tbody tr th {\n        vertical-align: top;\n    }\n\n    .dataframe thead th {\n        text-align: right;\n    }\n</style>\n<table border=\"1\" class=\"dataframe\">\n  <thead>\n    <tr style=\"text-align: right;\">\n      <th></th>\n      <th>timestamp</th>\n      <th>product_id</th>\n      <th>estimated_stock_pct</th>\n      <th>quantity</th>\n      <th>temperature</th>\n      <th>category</th>\n      <th>unit_price</th>\n    </tr>\n  </thead>\n  <tbody>\n    <tr>\n      <th>0</th>\n      <td>2022-03-01 09:00:03</td>\n      <td>891e242e-4e58-469f-8de1-a60ffa8eb286</td>\n      <td>0.80</td>\n      <td>0.0</td>\n      <td>NaN</td>\n      <td>spices and herbs</td>\n      <td>2.19</td>\n    </tr>\n    <tr>\n      <th>1</th>\n      <td>2022-03-01 09:00:12</td>\n      <td>440eb479-cf6a-4c55-ba8b-4475bc66dd06</td>\n      <td>0.33</td>\n      <td>0.0</td>\n      <td>NaN</td>\n      <td>baked goods</td>\n      <td>8.49</td>\n    </tr>\n    <tr>\n      <th>2</th>\n      <td>2022-03-01 09:00:23</td>\n      <td>ae7c026a-2854-4342-8e0b-b1186cedbbe3</td>\n      <td>0.20</td>\n      <td>0.0</td>\n      <td>1.85</td>\n      <td>canned foods</td>\n      <td>8.99</td>\n    </tr>\n    <tr>\n      <th>3</th>\n      <td>2022-03-01 09:00:48</td>\n      <td>adfbf330-cb1a-4c42-933d-f8fbee4696ad</td>\n      <td>0.11</td>\n      <td>0.0</td>\n      <td>NaN</td>\n      <td>canned foods</td>\n      <td>7.49</td>\n    </tr>\n    <tr>\n      <th>4</th>\n      <td>2022-03-01 09:00:53</td>\n      <td>9708cf5b-aa69-4320-a013-9d234c40e63f</td>\n      <td>0.57</td>\n      <td>0.0</td>\n      <td>NaN</td>\n      <td>cheese</td>\n      <td>13.99</td>\n    </tr>\n  </tbody>\n</table>\n</div>"
     },
     "execution_count": 587,
     "metadata": {},
     "output_type": "execute_result"
    }
   ],
   "source": [
    "merged_df = merged_df.merge(product_price, on=\"product_id\", how=\"left\")\n",
    "merged_df.head()"
   ],
   "metadata": {
    "collapsed": false,
    "pycharm": {
     "name": "#%%\n"
    }
   }
  },
  {
   "cell_type": "code",
   "execution_count": 588,
   "outputs": [
    {
     "name": "stdout",
     "output_type": "stream",
     "text": [
      "<class 'pandas.core.frame.DataFrame'>\n",
      "Int64Index: 14998 entries, 0 to 14997\n",
      "Data columns (total 7 columns):\n",
      " #   Column               Non-Null Count  Dtype         \n",
      "---  ------               --------------  -----         \n",
      " 0   timestamp            14998 non-null  datetime64[ns]\n",
      " 1   product_id           14998 non-null  object        \n",
      " 2   estimated_stock_pct  14998 non-null  float64       \n",
      " 3   quantity             14998 non-null  float64       \n",
      " 4   temperature          1300 non-null   float64       \n",
      " 5   category             14998 non-null  object        \n",
      " 6   unit_price           14998 non-null  float64       \n",
      "dtypes: datetime64[ns](1), float64(4), object(2)\n",
      "memory usage: 937.4+ KB\n"
     ]
    }
   ],
   "source": [
    "merged_df.info()"
   ],
   "metadata": {
    "collapsed": false,
    "pycharm": {
     "name": "#%%\n"
    }
   }
  },
  {
   "cell_type": "code",
   "execution_count": 589,
   "outputs": [
    {
     "data": {
      "text/plain": "            timestamp                            product_id  \\\n0 2022-03-01 09:00:03  891e242e-4e58-469f-8de1-a60ffa8eb286   \n1 2022-03-01 09:00:12  440eb479-cf6a-4c55-ba8b-4475bc66dd06   \n2 2022-03-01 09:00:23  ae7c026a-2854-4342-8e0b-b1186cedbbe3   \n3 2022-03-01 09:00:48  adfbf330-cb1a-4c42-933d-f8fbee4696ad   \n4 2022-03-01 09:00:53  9708cf5b-aa69-4320-a013-9d234c40e63f   \n\n   estimated_stock_pct  quantity  temperature  unit_price  \\\n0                 0.80       0.0          NaN        2.19   \n1                 0.33       0.0          NaN        8.49   \n2                 0.20       0.0         1.85        8.99   \n3                 0.11       0.0          NaN        7.49   \n4                 0.57       0.0          NaN       13.99   \n\n   category_baby products  category_baked goods  category_baking  \\\n0                       0                     0                0   \n1                       0                     1                0   \n2                       0                     0                0   \n3                       0                     0                0   \n4                       0                     0                0   \n\n   category_beverages  ...  category_meat  category_medicine  \\\n0                   0  ...              0                  0   \n1                   0  ...              0                  0   \n2                   0  ...              0                  0   \n3                   0  ...              0                  0   \n4                   0  ...              0                  0   \n\n   category_packaged foods  category_personal care  category_pets  \\\n0                        0                       0              0   \n1                        0                       0              0   \n2                        0                       0              0   \n3                        0                       0              0   \n4                        0                       0              0   \n\n   category_refrigerated items  category_seafood  category_snacks  \\\n0                            0                 0                0   \n1                            0                 0                0   \n2                            0                 0                0   \n3                            0                 0                0   \n4                            0                 0                0   \n\n   category_spices and herbs  category_vegetables  \n0                          1                    0  \n1                          0                    0  \n2                          0                    0  \n3                          0                    0  \n4                          0                    0  \n\n[5 rows x 28 columns]",
      "text/html": "<div>\n<style scoped>\n    .dataframe tbody tr th:only-of-type {\n        vertical-align: middle;\n    }\n\n    .dataframe tbody tr th {\n        vertical-align: top;\n    }\n\n    .dataframe thead th {\n        text-align: right;\n    }\n</style>\n<table border=\"1\" class=\"dataframe\">\n  <thead>\n    <tr style=\"text-align: right;\">\n      <th></th>\n      <th>timestamp</th>\n      <th>product_id</th>\n      <th>estimated_stock_pct</th>\n      <th>quantity</th>\n      <th>temperature</th>\n      <th>unit_price</th>\n      <th>category_baby products</th>\n      <th>category_baked goods</th>\n      <th>category_baking</th>\n      <th>category_beverages</th>\n      <th>...</th>\n      <th>category_meat</th>\n      <th>category_medicine</th>\n      <th>category_packaged foods</th>\n      <th>category_personal care</th>\n      <th>category_pets</th>\n      <th>category_refrigerated items</th>\n      <th>category_seafood</th>\n      <th>category_snacks</th>\n      <th>category_spices and herbs</th>\n      <th>category_vegetables</th>\n    </tr>\n  </thead>\n  <tbody>\n    <tr>\n      <th>0</th>\n      <td>2022-03-01 09:00:03</td>\n      <td>891e242e-4e58-469f-8de1-a60ffa8eb286</td>\n      <td>0.80</td>\n      <td>0.0</td>\n      <td>NaN</td>\n      <td>2.19</td>\n      <td>0</td>\n      <td>0</td>\n      <td>0</td>\n      <td>0</td>\n      <td>...</td>\n      <td>0</td>\n      <td>0</td>\n      <td>0</td>\n      <td>0</td>\n      <td>0</td>\n      <td>0</td>\n      <td>0</td>\n      <td>0</td>\n      <td>1</td>\n      <td>0</td>\n    </tr>\n    <tr>\n      <th>1</th>\n      <td>2022-03-01 09:00:12</td>\n      <td>440eb479-cf6a-4c55-ba8b-4475bc66dd06</td>\n      <td>0.33</td>\n      <td>0.0</td>\n      <td>NaN</td>\n      <td>8.49</td>\n      <td>0</td>\n      <td>1</td>\n      <td>0</td>\n      <td>0</td>\n      <td>...</td>\n      <td>0</td>\n      <td>0</td>\n      <td>0</td>\n      <td>0</td>\n      <td>0</td>\n      <td>0</td>\n      <td>0</td>\n      <td>0</td>\n      <td>0</td>\n      <td>0</td>\n    </tr>\n    <tr>\n      <th>2</th>\n      <td>2022-03-01 09:00:23</td>\n      <td>ae7c026a-2854-4342-8e0b-b1186cedbbe3</td>\n      <td>0.20</td>\n      <td>0.0</td>\n      <td>1.85</td>\n      <td>8.99</td>\n      <td>0</td>\n      <td>0</td>\n      <td>0</td>\n      <td>0</td>\n      <td>...</td>\n      <td>0</td>\n      <td>0</td>\n      <td>0</td>\n      <td>0</td>\n      <td>0</td>\n      <td>0</td>\n      <td>0</td>\n      <td>0</td>\n      <td>0</td>\n      <td>0</td>\n    </tr>\n    <tr>\n      <th>3</th>\n      <td>2022-03-01 09:00:48</td>\n      <td>adfbf330-cb1a-4c42-933d-f8fbee4696ad</td>\n      <td>0.11</td>\n      <td>0.0</td>\n      <td>NaN</td>\n      <td>7.49</td>\n      <td>0</td>\n      <td>0</td>\n      <td>0</td>\n      <td>0</td>\n      <td>...</td>\n      <td>0</td>\n      <td>0</td>\n      <td>0</td>\n      <td>0</td>\n      <td>0</td>\n      <td>0</td>\n      <td>0</td>\n      <td>0</td>\n      <td>0</td>\n      <td>0</td>\n    </tr>\n    <tr>\n      <th>4</th>\n      <td>2022-03-01 09:00:53</td>\n      <td>9708cf5b-aa69-4320-a013-9d234c40e63f</td>\n      <td>0.57</td>\n      <td>0.0</td>\n      <td>NaN</td>\n      <td>13.99</td>\n      <td>0</td>\n      <td>0</td>\n      <td>0</td>\n      <td>0</td>\n      <td>...</td>\n      <td>0</td>\n      <td>0</td>\n      <td>0</td>\n      <td>0</td>\n      <td>0</td>\n      <td>0</td>\n      <td>0</td>\n      <td>0</td>\n      <td>0</td>\n      <td>0</td>\n    </tr>\n  </tbody>\n</table>\n<p>5 rows × 28 columns</p>\n</div>"
     },
     "execution_count": 589,
     "metadata": {},
     "output_type": "execute_result"
    }
   ],
   "source": [
    "merged_df = pd.get_dummies(merged_df, columns=['category'])\n",
    "merged_df.head()"
   ],
   "metadata": {
    "collapsed": false,
    "pycharm": {
     "name": "#%%\n"
    }
   }
  },
  {
   "cell_type": "code",
   "execution_count": 590,
   "outputs": [
    {
     "name": "stdout",
     "output_type": "stream",
     "text": [
      "<class 'pandas.core.frame.DataFrame'>\n",
      "Int64Index: 14998 entries, 0 to 14997\n",
      "Data columns (total 28 columns):\n",
      " #   Column                          Non-Null Count  Dtype         \n",
      "---  ------                          --------------  -----         \n",
      " 0   timestamp                       14998 non-null  datetime64[ns]\n",
      " 1   product_id                      14998 non-null  object        \n",
      " 2   estimated_stock_pct             14998 non-null  float64       \n",
      " 3   quantity                        14998 non-null  float64       \n",
      " 4   temperature                     1300 non-null   float64       \n",
      " 5   unit_price                      14998 non-null  float64       \n",
      " 6   category_baby products          14998 non-null  uint8         \n",
      " 7   category_baked goods            14998 non-null  uint8         \n",
      " 8   category_baking                 14998 non-null  uint8         \n",
      " 9   category_beverages              14998 non-null  uint8         \n",
      " 10  category_canned foods           14998 non-null  uint8         \n",
      " 11  category_cheese                 14998 non-null  uint8         \n",
      " 12  category_cleaning products      14998 non-null  uint8         \n",
      " 13  category_condiments and sauces  14998 non-null  uint8         \n",
      " 14  category_dairy                  14998 non-null  uint8         \n",
      " 15  category_frozen                 14998 non-null  uint8         \n",
      " 16  category_fruit                  14998 non-null  uint8         \n",
      " 17  category_kitchen                14998 non-null  uint8         \n",
      " 18  category_meat                   14998 non-null  uint8         \n",
      " 19  category_medicine               14998 non-null  uint8         \n",
      " 20  category_packaged foods         14998 non-null  uint8         \n",
      " 21  category_personal care          14998 non-null  uint8         \n",
      " 22  category_pets                   14998 non-null  uint8         \n",
      " 23  category_refrigerated items     14998 non-null  uint8         \n",
      " 24  category_seafood                14998 non-null  uint8         \n",
      " 25  category_snacks                 14998 non-null  uint8         \n",
      " 26  category_spices and herbs       14998 non-null  uint8         \n",
      " 27  category_vegetables             14998 non-null  uint8         \n",
      "dtypes: datetime64[ns](1), float64(4), object(1), uint8(22)\n",
      "memory usage: 1.1+ MB\n"
     ]
    }
   ],
   "source": [
    "merged_df.info()"
   ],
   "metadata": {
    "collapsed": false,
    "pycharm": {
     "name": "#%%\n"
    }
   }
  },
  {
   "cell_type": "code",
   "execution_count": 591,
   "outputs": [
    {
     "data": {
      "text/plain": "            timestamp  estimated_stock_pct  quantity  temperature  unit_price  \\\n0 2022-03-01 09:00:03                 0.80       0.0          NaN        2.19   \n1 2022-03-01 09:00:12                 0.33       0.0          NaN        8.49   \n2 2022-03-01 09:00:23                 0.20       0.0         1.85        8.99   \n3 2022-03-01 09:00:48                 0.11       0.0          NaN        7.49   \n4 2022-03-01 09:00:53                 0.57       0.0          NaN       13.99   \n\n   category_baby products  category_baked goods  category_baking  \\\n0                       0                     0                0   \n1                       0                     1                0   \n2                       0                     0                0   \n3                       0                     0                0   \n4                       0                     0                0   \n\n   category_beverages  category_canned foods  ...  category_meat  \\\n0                   0                      0  ...              0   \n1                   0                      0  ...              0   \n2                   0                      1  ...              0   \n3                   0                      1  ...              0   \n4                   0                      0  ...              0   \n\n   category_medicine  category_packaged foods  category_personal care  \\\n0                  0                        0                       0   \n1                  0                        0                       0   \n2                  0                        0                       0   \n3                  0                        0                       0   \n4                  0                        0                       0   \n\n   category_pets  category_refrigerated items  category_seafood  \\\n0              0                            0                 0   \n1              0                            0                 0   \n2              0                            0                 0   \n3              0                            0                 0   \n4              0                            0                 0   \n\n   category_snacks  category_spices and herbs  category_vegetables  \n0                0                          1                    0  \n1                0                          0                    0  \n2                0                          0                    0  \n3                0                          0                    0  \n4                0                          0                    0  \n\n[5 rows x 27 columns]",
      "text/html": "<div>\n<style scoped>\n    .dataframe tbody tr th:only-of-type {\n        vertical-align: middle;\n    }\n\n    .dataframe tbody tr th {\n        vertical-align: top;\n    }\n\n    .dataframe thead th {\n        text-align: right;\n    }\n</style>\n<table border=\"1\" class=\"dataframe\">\n  <thead>\n    <tr style=\"text-align: right;\">\n      <th></th>\n      <th>timestamp</th>\n      <th>estimated_stock_pct</th>\n      <th>quantity</th>\n      <th>temperature</th>\n      <th>unit_price</th>\n      <th>category_baby products</th>\n      <th>category_baked goods</th>\n      <th>category_baking</th>\n      <th>category_beverages</th>\n      <th>category_canned foods</th>\n      <th>...</th>\n      <th>category_meat</th>\n      <th>category_medicine</th>\n      <th>category_packaged foods</th>\n      <th>category_personal care</th>\n      <th>category_pets</th>\n      <th>category_refrigerated items</th>\n      <th>category_seafood</th>\n      <th>category_snacks</th>\n      <th>category_spices and herbs</th>\n      <th>category_vegetables</th>\n    </tr>\n  </thead>\n  <tbody>\n    <tr>\n      <th>0</th>\n      <td>2022-03-01 09:00:03</td>\n      <td>0.80</td>\n      <td>0.0</td>\n      <td>NaN</td>\n      <td>2.19</td>\n      <td>0</td>\n      <td>0</td>\n      <td>0</td>\n      <td>0</td>\n      <td>0</td>\n      <td>...</td>\n      <td>0</td>\n      <td>0</td>\n      <td>0</td>\n      <td>0</td>\n      <td>0</td>\n      <td>0</td>\n      <td>0</td>\n      <td>0</td>\n      <td>1</td>\n      <td>0</td>\n    </tr>\n    <tr>\n      <th>1</th>\n      <td>2022-03-01 09:00:12</td>\n      <td>0.33</td>\n      <td>0.0</td>\n      <td>NaN</td>\n      <td>8.49</td>\n      <td>0</td>\n      <td>1</td>\n      <td>0</td>\n      <td>0</td>\n      <td>0</td>\n      <td>...</td>\n      <td>0</td>\n      <td>0</td>\n      <td>0</td>\n      <td>0</td>\n      <td>0</td>\n      <td>0</td>\n      <td>0</td>\n      <td>0</td>\n      <td>0</td>\n      <td>0</td>\n    </tr>\n    <tr>\n      <th>2</th>\n      <td>2022-03-01 09:00:23</td>\n      <td>0.20</td>\n      <td>0.0</td>\n      <td>1.85</td>\n      <td>8.99</td>\n      <td>0</td>\n      <td>0</td>\n      <td>0</td>\n      <td>0</td>\n      <td>1</td>\n      <td>...</td>\n      <td>0</td>\n      <td>0</td>\n      <td>0</td>\n      <td>0</td>\n      <td>0</td>\n      <td>0</td>\n      <td>0</td>\n      <td>0</td>\n      <td>0</td>\n      <td>0</td>\n    </tr>\n    <tr>\n      <th>3</th>\n      <td>2022-03-01 09:00:48</td>\n      <td>0.11</td>\n      <td>0.0</td>\n      <td>NaN</td>\n      <td>7.49</td>\n      <td>0</td>\n      <td>0</td>\n      <td>0</td>\n      <td>0</td>\n      <td>1</td>\n      <td>...</td>\n      <td>0</td>\n      <td>0</td>\n      <td>0</td>\n      <td>0</td>\n      <td>0</td>\n      <td>0</td>\n      <td>0</td>\n      <td>0</td>\n      <td>0</td>\n      <td>0</td>\n    </tr>\n    <tr>\n      <th>4</th>\n      <td>2022-03-01 09:00:53</td>\n      <td>0.57</td>\n      <td>0.0</td>\n      <td>NaN</td>\n      <td>13.99</td>\n      <td>0</td>\n      <td>0</td>\n      <td>0</td>\n      <td>0</td>\n      <td>0</td>\n      <td>...</td>\n      <td>0</td>\n      <td>0</td>\n      <td>0</td>\n      <td>0</td>\n      <td>0</td>\n      <td>0</td>\n      <td>0</td>\n      <td>0</td>\n      <td>0</td>\n      <td>0</td>\n    </tr>\n  </tbody>\n</table>\n<p>5 rows × 27 columns</p>\n</div>"
     },
     "execution_count": 591,
     "metadata": {},
     "output_type": "execute_result"
    }
   ],
   "source": [
    "merged_df.drop(columns=['product_id'], inplace=True)\n",
    "merged_df.head()"
   ],
   "metadata": {
    "collapsed": false,
    "pycharm": {
     "name": "#%%\n"
    }
   }
  },
  {
   "cell_type": "code",
   "execution_count": 592,
   "outputs": [
    {
     "data": {
      "text/plain": "timestamp                             0\nestimated_stock_pct                   0\nquantity                              0\ntemperature                       13698\nunit_price                            0\ncategory_baby products                0\ncategory_baked goods                  0\ncategory_baking                       0\ncategory_beverages                    0\ncategory_canned foods                 0\ncategory_cheese                       0\ncategory_cleaning products            0\ncategory_condiments and sauces        0\ncategory_dairy                        0\ncategory_frozen                       0\ncategory_fruit                        0\ncategory_kitchen                      0\ncategory_meat                         0\ncategory_medicine                     0\ncategory_packaged foods               0\ncategory_personal care                0\ncategory_pets                         0\ncategory_refrigerated items           0\ncategory_seafood                      0\ncategory_snacks                       0\ncategory_spices and herbs             0\ncategory_vegetables                   0\ndtype: int64"
     },
     "execution_count": 592,
     "metadata": {},
     "output_type": "execute_result"
    }
   ],
   "source": [
    "merged_df.isna().sum()"
   ],
   "metadata": {
    "collapsed": false,
    "pycharm": {
     "name": "#%%\n"
    }
   }
  },
  {
   "cell_type": "code",
   "execution_count": 593,
   "outputs": [
    {
     "name": "stdout",
     "output_type": "stream",
     "text": [
      "<class 'pandas.core.frame.DataFrame'>\n",
      "Int64Index: 14998 entries, 0 to 14997\n",
      "Data columns (total 27 columns):\n",
      " #   Column                          Non-Null Count  Dtype         \n",
      "---  ------                          --------------  -----         \n",
      " 0   timestamp                       14998 non-null  datetime64[ns]\n",
      " 1   estimated_stock_pct             14998 non-null  float64       \n",
      " 2   quantity                        14998 non-null  float64       \n",
      " 3   temperature                     14998 non-null  float64       \n",
      " 4   unit_price                      14998 non-null  float64       \n",
      " 5   category_baby products          14998 non-null  uint8         \n",
      " 6   category_baked goods            14998 non-null  uint8         \n",
      " 7   category_baking                 14998 non-null  uint8         \n",
      " 8   category_beverages              14998 non-null  uint8         \n",
      " 9   category_canned foods           14998 non-null  uint8         \n",
      " 10  category_cheese                 14998 non-null  uint8         \n",
      " 11  category_cleaning products      14998 non-null  uint8         \n",
      " 12  category_condiments and sauces  14998 non-null  uint8         \n",
      " 13  category_dairy                  14998 non-null  uint8         \n",
      " 14  category_frozen                 14998 non-null  uint8         \n",
      " 15  category_fruit                  14998 non-null  uint8         \n",
      " 16  category_kitchen                14998 non-null  uint8         \n",
      " 17  category_meat                   14998 non-null  uint8         \n",
      " 18  category_medicine               14998 non-null  uint8         \n",
      " 19  category_packaged foods         14998 non-null  uint8         \n",
      " 20  category_personal care          14998 non-null  uint8         \n",
      " 21  category_pets                   14998 non-null  uint8         \n",
      " 22  category_refrigerated items     14998 non-null  uint8         \n",
      " 23  category_seafood                14998 non-null  uint8         \n",
      " 24  category_snacks                 14998 non-null  uint8         \n",
      " 25  category_spices and herbs       14998 non-null  uint8         \n",
      " 26  category_vegetables             14998 non-null  uint8         \n",
      "dtypes: datetime64[ns](1), float64(4), uint8(22)\n",
      "memory usage: 1.0 MB\n"
     ]
    }
   ],
   "source": [
    "merged_df['temperature'] = merged_df['temperature'].fillna(0)\n",
    "merged_df.info()"
   ],
   "metadata": {
    "collapsed": false,
    "pycharm": {
     "name": "#%%\n"
    }
   }
  },
  {
   "cell_type": "code",
   "execution_count": 594,
   "outputs": [],
   "source": [
    "df=merged_df"
   ],
   "metadata": {
    "collapsed": false,
    "pycharm": {
     "name": "#%%\n"
    }
   }
  },
  {
   "cell_type": "code",
   "execution_count": 595,
   "outputs": [],
   "source": [
    "df['hour'] = merged_df['timestamp'].dt.hour"
   ],
   "metadata": {
    "collapsed": false,
    "pycharm": {
     "name": "#%%\n"
    }
   }
  },
  {
   "cell_type": "code",
   "execution_count": 596,
   "outputs": [
    {
     "data": {
      "text/plain": "       estimated_stock_pct  quantity  temperature  unit_price  \\\n0                     0.80       0.0         0.00        2.19   \n1                     0.33       0.0         0.00        8.49   \n2                     0.20       0.0         1.85        8.99   \n3                     0.11       0.0         0.00        7.49   \n4                     0.57       0.0         0.00       13.99   \n...                    ...       ...          ...         ...   \n14993                 0.63       0.0         0.00        2.49   \n14994                 0.54       0.0         0.00        4.19   \n14995                 0.37       0.0         0.00        1.19   \n14996                 0.60       0.0         0.00        5.99   \n14997                 0.45       0.0         0.00        5.49   \n\n       category_baby products  category_baked goods  category_baking  \\\n0                           0                     0                0   \n1                           0                     1                0   \n2                           0                     0                0   \n3                           0                     0                0   \n4                           0                     0                0   \n...                       ...                   ...              ...   \n14993                       0                     0                0   \n14994                       0                     0                0   \n14995                       0                     0                0   \n14996                       0                     0                0   \n14997                       0                     0                0   \n\n       category_beverages  category_canned foods  category_cheese  ...  \\\n0                       0                      0                0  ...   \n1                       0                      0                0  ...   \n2                       0                      1                0  ...   \n3                       0                      1                0  ...   \n4                       0                      0                1  ...   \n...                   ...                    ...              ...  ...   \n14993                   0                      0                0  ...   \n14994                   0                      0                0  ...   \n14995                   0                      0                0  ...   \n14996                   0                      0                0  ...   \n14997                   0                      0                0  ...   \n\n       category_medicine  category_packaged foods  category_personal care  \\\n0                      0                        0                       0   \n1                      0                        0                       0   \n2                      0                        0                       0   \n3                      0                        0                       0   \n4                      0                        0                       0   \n...                  ...                      ...                     ...   \n14993                  0                        0                       0   \n14994                  0                        0                       0   \n14995                  0                        0                       0   \n14996                  0                        0                       0   \n14997                  0                        1                       0   \n\n       category_pets  category_refrigerated items  category_seafood  \\\n0                  0                            0                 0   \n1                  0                            0                 0   \n2                  0                            0                 0   \n3                  0                            0                 0   \n4                  0                            0                 0   \n...              ...                          ...               ...   \n14993              0                            0                 0   \n14994              0                            0                 0   \n14995              0                            0                 0   \n14996              0                            1                 0   \n14997              0                            0                 0   \n\n       category_snacks  category_spices and herbs  category_vegetables  hour  \n0                    0                          1                    0     9  \n1                    0                          0                    0     9  \n2                    0                          0                    0     9  \n3                    0                          0                    0     9  \n4                    0                          0                    0     9  \n...                ...                        ...                  ...   ...  \n14993                0                          0                    1    19  \n14994                0                          1                    0    19  \n14995                0                          0                    1    19  \n14996                0                          0                    0    19  \n14997                0                          0                    0    19  \n\n[14998 rows x 27 columns]",
      "text/html": "<div>\n<style scoped>\n    .dataframe tbody tr th:only-of-type {\n        vertical-align: middle;\n    }\n\n    .dataframe tbody tr th {\n        vertical-align: top;\n    }\n\n    .dataframe thead th {\n        text-align: right;\n    }\n</style>\n<table border=\"1\" class=\"dataframe\">\n  <thead>\n    <tr style=\"text-align: right;\">\n      <th></th>\n      <th>estimated_stock_pct</th>\n      <th>quantity</th>\n      <th>temperature</th>\n      <th>unit_price</th>\n      <th>category_baby products</th>\n      <th>category_baked goods</th>\n      <th>category_baking</th>\n      <th>category_beverages</th>\n      <th>category_canned foods</th>\n      <th>category_cheese</th>\n      <th>...</th>\n      <th>category_medicine</th>\n      <th>category_packaged foods</th>\n      <th>category_personal care</th>\n      <th>category_pets</th>\n      <th>category_refrigerated items</th>\n      <th>category_seafood</th>\n      <th>category_snacks</th>\n      <th>category_spices and herbs</th>\n      <th>category_vegetables</th>\n      <th>hour</th>\n    </tr>\n  </thead>\n  <tbody>\n    <tr>\n      <th>0</th>\n      <td>0.80</td>\n      <td>0.0</td>\n      <td>0.00</td>\n      <td>2.19</td>\n      <td>0</td>\n      <td>0</td>\n      <td>0</td>\n      <td>0</td>\n      <td>0</td>\n      <td>0</td>\n      <td>...</td>\n      <td>0</td>\n      <td>0</td>\n      <td>0</td>\n      <td>0</td>\n      <td>0</td>\n      <td>0</td>\n      <td>0</td>\n      <td>1</td>\n      <td>0</td>\n      <td>9</td>\n    </tr>\n    <tr>\n      <th>1</th>\n      <td>0.33</td>\n      <td>0.0</td>\n      <td>0.00</td>\n      <td>8.49</td>\n      <td>0</td>\n      <td>1</td>\n      <td>0</td>\n      <td>0</td>\n      <td>0</td>\n      <td>0</td>\n      <td>...</td>\n      <td>0</td>\n      <td>0</td>\n      <td>0</td>\n      <td>0</td>\n      <td>0</td>\n      <td>0</td>\n      <td>0</td>\n      <td>0</td>\n      <td>0</td>\n      <td>9</td>\n    </tr>\n    <tr>\n      <th>2</th>\n      <td>0.20</td>\n      <td>0.0</td>\n      <td>1.85</td>\n      <td>8.99</td>\n      <td>0</td>\n      <td>0</td>\n      <td>0</td>\n      <td>0</td>\n      <td>1</td>\n      <td>0</td>\n      <td>...</td>\n      <td>0</td>\n      <td>0</td>\n      <td>0</td>\n      <td>0</td>\n      <td>0</td>\n      <td>0</td>\n      <td>0</td>\n      <td>0</td>\n      <td>0</td>\n      <td>9</td>\n    </tr>\n    <tr>\n      <th>3</th>\n      <td>0.11</td>\n      <td>0.0</td>\n      <td>0.00</td>\n      <td>7.49</td>\n      <td>0</td>\n      <td>0</td>\n      <td>0</td>\n      <td>0</td>\n      <td>1</td>\n      <td>0</td>\n      <td>...</td>\n      <td>0</td>\n      <td>0</td>\n      <td>0</td>\n      <td>0</td>\n      <td>0</td>\n      <td>0</td>\n      <td>0</td>\n      <td>0</td>\n      <td>0</td>\n      <td>9</td>\n    </tr>\n    <tr>\n      <th>4</th>\n      <td>0.57</td>\n      <td>0.0</td>\n      <td>0.00</td>\n      <td>13.99</td>\n      <td>0</td>\n      <td>0</td>\n      <td>0</td>\n      <td>0</td>\n      <td>0</td>\n      <td>1</td>\n      <td>...</td>\n      <td>0</td>\n      <td>0</td>\n      <td>0</td>\n      <td>0</td>\n      <td>0</td>\n      <td>0</td>\n      <td>0</td>\n      <td>0</td>\n      <td>0</td>\n      <td>9</td>\n    </tr>\n    <tr>\n      <th>...</th>\n      <td>...</td>\n      <td>...</td>\n      <td>...</td>\n      <td>...</td>\n      <td>...</td>\n      <td>...</td>\n      <td>...</td>\n      <td>...</td>\n      <td>...</td>\n      <td>...</td>\n      <td>...</td>\n      <td>...</td>\n      <td>...</td>\n      <td>...</td>\n      <td>...</td>\n      <td>...</td>\n      <td>...</td>\n      <td>...</td>\n      <td>...</td>\n      <td>...</td>\n      <td>...</td>\n    </tr>\n    <tr>\n      <th>14993</th>\n      <td>0.63</td>\n      <td>0.0</td>\n      <td>0.00</td>\n      <td>2.49</td>\n      <td>0</td>\n      <td>0</td>\n      <td>0</td>\n      <td>0</td>\n      <td>0</td>\n      <td>0</td>\n      <td>...</td>\n      <td>0</td>\n      <td>0</td>\n      <td>0</td>\n      <td>0</td>\n      <td>0</td>\n      <td>0</td>\n      <td>0</td>\n      <td>0</td>\n      <td>1</td>\n      <td>19</td>\n    </tr>\n    <tr>\n      <th>14994</th>\n      <td>0.54</td>\n      <td>0.0</td>\n      <td>0.00</td>\n      <td>4.19</td>\n      <td>0</td>\n      <td>0</td>\n      <td>0</td>\n      <td>0</td>\n      <td>0</td>\n      <td>0</td>\n      <td>...</td>\n      <td>0</td>\n      <td>0</td>\n      <td>0</td>\n      <td>0</td>\n      <td>0</td>\n      <td>0</td>\n      <td>0</td>\n      <td>1</td>\n      <td>0</td>\n      <td>19</td>\n    </tr>\n    <tr>\n      <th>14995</th>\n      <td>0.37</td>\n      <td>0.0</td>\n      <td>0.00</td>\n      <td>1.19</td>\n      <td>0</td>\n      <td>0</td>\n      <td>0</td>\n      <td>0</td>\n      <td>0</td>\n      <td>0</td>\n      <td>...</td>\n      <td>0</td>\n      <td>0</td>\n      <td>0</td>\n      <td>0</td>\n      <td>0</td>\n      <td>0</td>\n      <td>0</td>\n      <td>0</td>\n      <td>1</td>\n      <td>19</td>\n    </tr>\n    <tr>\n      <th>14996</th>\n      <td>0.60</td>\n      <td>0.0</td>\n      <td>0.00</td>\n      <td>5.99</td>\n      <td>0</td>\n      <td>0</td>\n      <td>0</td>\n      <td>0</td>\n      <td>0</td>\n      <td>0</td>\n      <td>...</td>\n      <td>0</td>\n      <td>0</td>\n      <td>0</td>\n      <td>0</td>\n      <td>1</td>\n      <td>0</td>\n      <td>0</td>\n      <td>0</td>\n      <td>0</td>\n      <td>19</td>\n    </tr>\n    <tr>\n      <th>14997</th>\n      <td>0.45</td>\n      <td>0.0</td>\n      <td>0.00</td>\n      <td>5.49</td>\n      <td>0</td>\n      <td>0</td>\n      <td>0</td>\n      <td>0</td>\n      <td>0</td>\n      <td>0</td>\n      <td>...</td>\n      <td>0</td>\n      <td>1</td>\n      <td>0</td>\n      <td>0</td>\n      <td>0</td>\n      <td>0</td>\n      <td>0</td>\n      <td>0</td>\n      <td>0</td>\n      <td>19</td>\n    </tr>\n  </tbody>\n</table>\n<p>14998 rows × 27 columns</p>\n</div>"
     },
     "execution_count": 596,
     "metadata": {},
     "output_type": "execute_result"
    }
   ],
   "source": [
    "df.drop('timestamp',axis=1)"
   ],
   "metadata": {
    "collapsed": false,
    "pycharm": {
     "name": "#%%\n"
    }
   }
  },
  {
   "cell_type": "code",
   "execution_count": 597,
   "outputs": [
    {
     "name": "stdout",
     "output_type": "stream",
     "text": [
      "<class 'pandas.core.frame.DataFrame'>\n",
      "Int64Index: 14998 entries, 0 to 14997\n",
      "Data columns (total 28 columns):\n",
      " #   Column                          Non-Null Count  Dtype         \n",
      "---  ------                          --------------  -----         \n",
      " 0   timestamp                       14998 non-null  datetime64[ns]\n",
      " 1   estimated_stock_pct             14998 non-null  float64       \n",
      " 2   quantity                        14998 non-null  float64       \n",
      " 3   temperature                     14998 non-null  float64       \n",
      " 4   unit_price                      14998 non-null  float64       \n",
      " 5   category_baby products          14998 non-null  uint8         \n",
      " 6   category_baked goods            14998 non-null  uint8         \n",
      " 7   category_baking                 14998 non-null  uint8         \n",
      " 8   category_beverages              14998 non-null  uint8         \n",
      " 9   category_canned foods           14998 non-null  uint8         \n",
      " 10  category_cheese                 14998 non-null  uint8         \n",
      " 11  category_cleaning products      14998 non-null  uint8         \n",
      " 12  category_condiments and sauces  14998 non-null  uint8         \n",
      " 13  category_dairy                  14998 non-null  uint8         \n",
      " 14  category_frozen                 14998 non-null  uint8         \n",
      " 15  category_fruit                  14998 non-null  uint8         \n",
      " 16  category_kitchen                14998 non-null  uint8         \n",
      " 17  category_meat                   14998 non-null  uint8         \n",
      " 18  category_medicine               14998 non-null  uint8         \n",
      " 19  category_packaged foods         14998 non-null  uint8         \n",
      " 20  category_personal care          14998 non-null  uint8         \n",
      " 21  category_pets                   14998 non-null  uint8         \n",
      " 22  category_refrigerated items     14998 non-null  uint8         \n",
      " 23  category_seafood                14998 non-null  uint8         \n",
      " 24  category_snacks                 14998 non-null  uint8         \n",
      " 25  category_spices and herbs       14998 non-null  uint8         \n",
      " 26  category_vegetables             14998 non-null  uint8         \n",
      " 27  hour                            14998 non-null  int64         \n",
      "dtypes: datetime64[ns](1), float64(4), int64(1), uint8(22)\n",
      "memory usage: 1.1 MB\n"
     ]
    }
   ],
   "source": [
    "df.info()"
   ],
   "metadata": {
    "collapsed": false,
    "pycharm": {
     "name": "#%%\n"
    }
   }
  },
  {
   "cell_type": "markdown",
   "source": [
    "## MODELLING"
   ],
   "metadata": {
    "collapsed": false,
    "pycharm": {
     "name": "#%% md\n"
    }
   }
  },
  {
   "cell_type": "code",
   "execution_count": 672,
   "outputs": [
    {
     "data": {
      "text/plain": "       unit_price  category_baby products  category_baked goods  \\\n0            2.19                       0                     0   \n1            8.49                       0                     1   \n2            8.99                       0                     0   \n3            7.49                       0                     0   \n4           13.99                       0                     0   \n...           ...                     ...                   ...   \n14993        2.49                       0                     0   \n14994        4.19                       0                     0   \n14995        1.19                       0                     0   \n14996        5.99                       0                     0   \n14997        5.49                       0                     0   \n\n       category_baking  category_beverages  category_canned foods  \\\n0                    0                   0                      0   \n1                    0                   0                      0   \n2                    0                   0                      1   \n3                    0                   0                      1   \n4                    0                   0                      0   \n...                ...                 ...                    ...   \n14993                0                   0                      0   \n14994                0                   0                      0   \n14995                0                   0                      0   \n14996                0                   0                      0   \n14997                0                   0                      0   \n\n       category_cheese  category_cleaning products  \\\n0                    0                           0   \n1                    0                           0   \n2                    0                           0   \n3                    0                           0   \n4                    1                           0   \n...                ...                         ...   \n14993                0                           0   \n14994                0                           0   \n14995                0                           0   \n14996                0                           0   \n14997                0                           0   \n\n       category_condiments and sauces  category_dairy  ...  category_medicine  \\\n0                                   0               0  ...                  0   \n1                                   0               0  ...                  0   \n2                                   0               0  ...                  0   \n3                                   0               0  ...                  0   \n4                                   0               0  ...                  0   \n...                               ...             ...  ...                ...   \n14993                               0               0  ...                  0   \n14994                               0               0  ...                  0   \n14995                               0               0  ...                  0   \n14996                               0               0  ...                  0   \n14997                               0               0  ...                  0   \n\n       category_packaged foods  category_personal care  category_pets  \\\n0                            0                       0              0   \n1                            0                       0              0   \n2                            0                       0              0   \n3                            0                       0              0   \n4                            0                       0              0   \n...                        ...                     ...            ...   \n14993                        0                       0              0   \n14994                        0                       0              0   \n14995                        0                       0              0   \n14996                        0                       0              0   \n14997                        1                       0              0   \n\n       category_refrigerated items  category_seafood  category_snacks  \\\n0                                0                 0                0   \n1                                0                 0                0   \n2                                0                 0                0   \n3                                0                 0                0   \n4                                0                 0                0   \n...                            ...               ...              ...   \n14993                            0                 0                0   \n14994                            0                 0                0   \n14995                            0                 0                0   \n14996                            1                 0                0   \n14997                            0                 0                0   \n\n       category_spices and herbs  category_vegetables  hour  \n0                              1                    0     9  \n1                              0                    0     9  \n2                              0                    0     9  \n3                              0                    0     9  \n4                              0                    0     9  \n...                          ...                  ...   ...  \n14993                          0                    1    19  \n14994                          1                    0    19  \n14995                          0                    1    19  \n14996                          0                    0    19  \n14997                          0                    0    19  \n\n[14998 rows x 24 columns]",
      "text/html": "<div>\n<style scoped>\n    .dataframe tbody tr th:only-of-type {\n        vertical-align: middle;\n    }\n\n    .dataframe tbody tr th {\n        vertical-align: top;\n    }\n\n    .dataframe thead th {\n        text-align: right;\n    }\n</style>\n<table border=\"1\" class=\"dataframe\">\n  <thead>\n    <tr style=\"text-align: right;\">\n      <th></th>\n      <th>unit_price</th>\n      <th>category_baby products</th>\n      <th>category_baked goods</th>\n      <th>category_baking</th>\n      <th>category_beverages</th>\n      <th>category_canned foods</th>\n      <th>category_cheese</th>\n      <th>category_cleaning products</th>\n      <th>category_condiments and sauces</th>\n      <th>category_dairy</th>\n      <th>...</th>\n      <th>category_medicine</th>\n      <th>category_packaged foods</th>\n      <th>category_personal care</th>\n      <th>category_pets</th>\n      <th>category_refrigerated items</th>\n      <th>category_seafood</th>\n      <th>category_snacks</th>\n      <th>category_spices and herbs</th>\n      <th>category_vegetables</th>\n      <th>hour</th>\n    </tr>\n  </thead>\n  <tbody>\n    <tr>\n      <th>0</th>\n      <td>2.19</td>\n      <td>0</td>\n      <td>0</td>\n      <td>0</td>\n      <td>0</td>\n      <td>0</td>\n      <td>0</td>\n      <td>0</td>\n      <td>0</td>\n      <td>0</td>\n      <td>...</td>\n      <td>0</td>\n      <td>0</td>\n      <td>0</td>\n      <td>0</td>\n      <td>0</td>\n      <td>0</td>\n      <td>0</td>\n      <td>1</td>\n      <td>0</td>\n      <td>9</td>\n    </tr>\n    <tr>\n      <th>1</th>\n      <td>8.49</td>\n      <td>0</td>\n      <td>1</td>\n      <td>0</td>\n      <td>0</td>\n      <td>0</td>\n      <td>0</td>\n      <td>0</td>\n      <td>0</td>\n      <td>0</td>\n      <td>...</td>\n      <td>0</td>\n      <td>0</td>\n      <td>0</td>\n      <td>0</td>\n      <td>0</td>\n      <td>0</td>\n      <td>0</td>\n      <td>0</td>\n      <td>0</td>\n      <td>9</td>\n    </tr>\n    <tr>\n      <th>2</th>\n      <td>8.99</td>\n      <td>0</td>\n      <td>0</td>\n      <td>0</td>\n      <td>0</td>\n      <td>1</td>\n      <td>0</td>\n      <td>0</td>\n      <td>0</td>\n      <td>0</td>\n      <td>...</td>\n      <td>0</td>\n      <td>0</td>\n      <td>0</td>\n      <td>0</td>\n      <td>0</td>\n      <td>0</td>\n      <td>0</td>\n      <td>0</td>\n      <td>0</td>\n      <td>9</td>\n    </tr>\n    <tr>\n      <th>3</th>\n      <td>7.49</td>\n      <td>0</td>\n      <td>0</td>\n      <td>0</td>\n      <td>0</td>\n      <td>1</td>\n      <td>0</td>\n      <td>0</td>\n      <td>0</td>\n      <td>0</td>\n      <td>...</td>\n      <td>0</td>\n      <td>0</td>\n      <td>0</td>\n      <td>0</td>\n      <td>0</td>\n      <td>0</td>\n      <td>0</td>\n      <td>0</td>\n      <td>0</td>\n      <td>9</td>\n    </tr>\n    <tr>\n      <th>4</th>\n      <td>13.99</td>\n      <td>0</td>\n      <td>0</td>\n      <td>0</td>\n      <td>0</td>\n      <td>0</td>\n      <td>1</td>\n      <td>0</td>\n      <td>0</td>\n      <td>0</td>\n      <td>...</td>\n      <td>0</td>\n      <td>0</td>\n      <td>0</td>\n      <td>0</td>\n      <td>0</td>\n      <td>0</td>\n      <td>0</td>\n      <td>0</td>\n      <td>0</td>\n      <td>9</td>\n    </tr>\n    <tr>\n      <th>...</th>\n      <td>...</td>\n      <td>...</td>\n      <td>...</td>\n      <td>...</td>\n      <td>...</td>\n      <td>...</td>\n      <td>...</td>\n      <td>...</td>\n      <td>...</td>\n      <td>...</td>\n      <td>...</td>\n      <td>...</td>\n      <td>...</td>\n      <td>...</td>\n      <td>...</td>\n      <td>...</td>\n      <td>...</td>\n      <td>...</td>\n      <td>...</td>\n      <td>...</td>\n      <td>...</td>\n    </tr>\n    <tr>\n      <th>14993</th>\n      <td>2.49</td>\n      <td>0</td>\n      <td>0</td>\n      <td>0</td>\n      <td>0</td>\n      <td>0</td>\n      <td>0</td>\n      <td>0</td>\n      <td>0</td>\n      <td>0</td>\n      <td>...</td>\n      <td>0</td>\n      <td>0</td>\n      <td>0</td>\n      <td>0</td>\n      <td>0</td>\n      <td>0</td>\n      <td>0</td>\n      <td>0</td>\n      <td>1</td>\n      <td>19</td>\n    </tr>\n    <tr>\n      <th>14994</th>\n      <td>4.19</td>\n      <td>0</td>\n      <td>0</td>\n      <td>0</td>\n      <td>0</td>\n      <td>0</td>\n      <td>0</td>\n      <td>0</td>\n      <td>0</td>\n      <td>0</td>\n      <td>...</td>\n      <td>0</td>\n      <td>0</td>\n      <td>0</td>\n      <td>0</td>\n      <td>0</td>\n      <td>0</td>\n      <td>0</td>\n      <td>1</td>\n      <td>0</td>\n      <td>19</td>\n    </tr>\n    <tr>\n      <th>14995</th>\n      <td>1.19</td>\n      <td>0</td>\n      <td>0</td>\n      <td>0</td>\n      <td>0</td>\n      <td>0</td>\n      <td>0</td>\n      <td>0</td>\n      <td>0</td>\n      <td>0</td>\n      <td>...</td>\n      <td>0</td>\n      <td>0</td>\n      <td>0</td>\n      <td>0</td>\n      <td>0</td>\n      <td>0</td>\n      <td>0</td>\n      <td>0</td>\n      <td>1</td>\n      <td>19</td>\n    </tr>\n    <tr>\n      <th>14996</th>\n      <td>5.99</td>\n      <td>0</td>\n      <td>0</td>\n      <td>0</td>\n      <td>0</td>\n      <td>0</td>\n      <td>0</td>\n      <td>0</td>\n      <td>0</td>\n      <td>0</td>\n      <td>...</td>\n      <td>0</td>\n      <td>0</td>\n      <td>0</td>\n      <td>0</td>\n      <td>1</td>\n      <td>0</td>\n      <td>0</td>\n      <td>0</td>\n      <td>0</td>\n      <td>19</td>\n    </tr>\n    <tr>\n      <th>14997</th>\n      <td>5.49</td>\n      <td>0</td>\n      <td>0</td>\n      <td>0</td>\n      <td>0</td>\n      <td>0</td>\n      <td>0</td>\n      <td>0</td>\n      <td>0</td>\n      <td>0</td>\n      <td>...</td>\n      <td>0</td>\n      <td>1</td>\n      <td>0</td>\n      <td>0</td>\n      <td>0</td>\n      <td>0</td>\n      <td>0</td>\n      <td>0</td>\n      <td>0</td>\n      <td>19</td>\n    </tr>\n  </tbody>\n</table>\n<p>14998 rows × 24 columns</p>\n</div>"
     },
     "execution_count": 672,
     "metadata": {},
     "output_type": "execute_result"
    }
   ],
   "source": [
    "X = df.drop(columns=['estimated_stock_pct','timestamp','temperature','quantity'])\n",
    "y = df['estimated_stock_pct']\n",
    "X"
   ],
   "metadata": {
    "collapsed": false,
    "pycharm": {
     "name": "#%%\n"
    }
   }
  },
  {
   "cell_type": "code",
   "execution_count": 746,
   "outputs": [],
   "source": [
    "\n",
    "from xgboost import  XGBRegressor\n",
    "from sklearn.model_selection import train_test_split\n",
    "from sklearn.metrics import mean_squared_error\n",
    "from sklearn.preprocessing import StandardScaler"
   ],
   "metadata": {
    "collapsed": false,
    "pycharm": {
     "name": "#%%\n"
    }
   }
  },
  {
   "cell_type": "code",
   "execution_count": 747,
   "outputs": [],
   "source": [
    "scaler = StandardScaler()"
   ],
   "metadata": {
    "collapsed": false,
    "pycharm": {
     "name": "#%%\n"
    }
   }
  },
  {
   "cell_type": "code",
   "execution_count": 748,
   "outputs": [],
   "source": [
    "X_train, X_test, y_train, y_test = train_test_split(X, y, test_size=0.2, random_state=101)"
   ],
   "metadata": {
    "collapsed": false,
    "pycharm": {
     "name": "#%%\n"
    }
   }
  },
  {
   "cell_type": "code",
   "execution_count": 749,
   "outputs": [],
   "source": [
    "Scaled_X = scaler.fit_transform(X_train)\n",
    "x=scaler.transform(X_test)"
   ],
   "metadata": {
    "collapsed": false,
    "pycharm": {
     "name": "#%%\n"
    }
   }
  },
  {
   "cell_type": "code",
   "execution_count": 750,
   "outputs": [],
   "source": [
    "rfg=XGBRegressor(max_depth=3,learning_rate=0.01)"
   ],
   "metadata": {
    "collapsed": false,
    "pycharm": {
     "name": "#%%\n"
    }
   }
  },
  {
   "cell_type": "code",
   "execution_count": 751,
   "outputs": [],
   "source": [
    "model = rfg.fit(Scaled_X,y_train)"
   ],
   "metadata": {
    "collapsed": false,
    "pycharm": {
     "name": "#%%\n"
    }
   }
  },
  {
   "cell_type": "code",
   "execution_count": 752,
   "outputs": [],
   "source": [
    "pred = model.predict(X_test)"
   ],
   "metadata": {
    "collapsed": false,
    "pycharm": {
     "name": "#%%\n"
    }
   }
  },
  {
   "cell_type": "code",
   "execution_count": 753,
   "outputs": [
    {
     "name": "stdout",
     "output_type": "stream",
     "text": [
      "0.08310202305617326\n"
     ]
    }
   ],
   "source": [
    "print(mean_squared_error(y_test,pred))\n"
   ],
   "metadata": {
    "collapsed": false,
    "pycharm": {
     "name": "#%%\n"
    }
   }
  },
  {
   "cell_type": "code",
   "execution_count": null,
   "outputs": [],
   "source": [],
   "metadata": {
    "collapsed": false,
    "pycharm": {
     "name": "#%%\n"
    }
   }
  }
 ],
 "metadata": {
  "kernelspec": {
   "display_name": "Python 3",
   "language": "python",
   "name": "python3"
  },
  "language_info": {
   "codemirror_mode": {
    "name": "ipython",
    "version": 2
   },
   "file_extension": ".py",
   "mimetype": "text/x-python",
   "name": "python",
   "nbconvert_exporter": "python",
   "pygments_lexer": "ipython2",
   "version": "2.7.6"
  }
 },
 "nbformat": 4,
 "nbformat_minor": 0
}